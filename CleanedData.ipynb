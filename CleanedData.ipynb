{
 "cells": [
  {
   "cell_type": "markdown",
   "metadata": {},
   "source": [
    "<div class=\"alert alert-block alert-info\"> Exploring Determinants of Academic Success </div>"
   ]
  },
  {
   "cell_type": "markdown",
   "metadata": {},
   "source": [
    "---"
   ]
  },
  {
   "cell_type": "markdown",
   "metadata": {},
   "source": [
    "<h1 style=\"color: black;\">Table of Contents</h1>\n",
    "<div class=\"toc\">\n",
    "    <ol style=\"font-family: Arial, sans-serif; font-size: 14px; line-height: 1.5; padding-left: 20px;\">\n",
    "        <li><a href=\"#Importing the Required Libraries\" style=\"color: black; text-decoration: none;\">Importing the Required Libraries</a></li>\n",
    "        <li><a href=\"#Load Original Dataset and Store\" style=\"color: black; text-decoration: none;\">Load Original Dataset and Store</a></li>\n",
    "        <ul style=\"font-family: Arial, sans-serif; font-size: 14px; line-height: 1.5; padding-left: 14px;\">\n",
    "            <li><a href=\"#Copy Original DataFrame\" style=\"color: black; text-decoration: none;\">Copy Original DataFrame</a></li>\n",
    "        </ul>\n",
    "        <li><a href=\"#Data Cleaning\" style=\"color: black; text-decoration: none;\">Data Cleaning</a></li>\n",
    "        <ul style=\"font-family: Arial, sans-serif; font-size: 14px; line-height: 1.5; padding-left: 14px;\">\n",
    "            <li><a href=\"#One Hot Encoding & Label Encoding\" style=\"color: black; text-decoration: none;\">One Hot Encoding & Label Encoding</a></li>\n",
    "        </ul>\n",
    "        <li><a href=\"#Analyzing and Describing Final DataFrame\" style=\"color: black; text-decoration: none;\">Finalized DataFrame</a></li>\n",
    "        </ul>\n",
    "    </ol>\n",
    "</div>"
   ]
  },
  {
   "cell_type": "code",
   "execution_count": 1,
   "metadata": {},
   "outputs": [
    {
     "data": {
      "application/javascript": "IPython.notebook.set_autosave_interval(0)"
     },
     "metadata": {},
     "output_type": "display_data"
    },
    {
     "name": "stdout",
     "output_type": "stream",
     "text": [
      "Autosave disabled\n"
     ]
    }
   ],
   "source": [
    "%autosave 0"
   ]
  },
  {
   "cell_type": "code",
   "execution_count": 2,
   "metadata": {},
   "outputs": [],
   "source": [
    "# print all the outputs in a cell\n",
    "from IPython.core.interactiveshell import InteractiveShell\n",
    "InteractiveShell.ast_node_interactivity = \"all\""
   ]
  },
  {
   "cell_type": "markdown",
   "metadata": {},
   "source": [
    "#### 1. Importing the Required Libraries"
   ]
  },
  {
   "cell_type": "code",
   "execution_count": 3,
   "metadata": {},
   "outputs": [],
   "source": [
    "import pandas as pd\n",
    "import numpy as np \n",
    "import seaborn as sns \n",
    "import matplotlib.pyplot as plt"
   ]
  },
  {
   "cell_type": "markdown",
   "metadata": {},
   "source": [
    "#### 2. Load Original Dataset and Store"
   ]
  },
  {
   "cell_type": "code",
   "execution_count": 4,
   "metadata": {},
   "outputs": [],
   "source": [
    "df = pd.read_csv(\"StudentPerformanceFactors.csv\")"
   ]
  },
  {
   "cell_type": "markdown",
   "metadata": {},
   "source": [
    "#### Analaysis of the DataFrame df"
   ]
  },
  {
   "cell_type": "code",
   "execution_count": 5,
   "metadata": {},
   "outputs": [
    {
     "data": {
      "text/html": [
       "<div>\n",
       "<style scoped>\n",
       "    .dataframe tbody tr th:only-of-type {\n",
       "        vertical-align: middle;\n",
       "    }\n",
       "\n",
       "    .dataframe tbody tr th {\n",
       "        vertical-align: top;\n",
       "    }\n",
       "\n",
       "    .dataframe thead th {\n",
       "        text-align: right;\n",
       "    }\n",
       "</style>\n",
       "<table border=\"1\" class=\"dataframe\">\n",
       "  <thead>\n",
       "    <tr style=\"text-align: right;\">\n",
       "      <th></th>\n",
       "      <th>Hours_Studied</th>\n",
       "      <th>Attendance</th>\n",
       "      <th>Parental_Involvement</th>\n",
       "      <th>Access_to_Resources</th>\n",
       "      <th>Extracurricular_Activities</th>\n",
       "      <th>Sleep_Hours</th>\n",
       "      <th>Previous_Scores</th>\n",
       "      <th>Motivation_Level</th>\n",
       "      <th>Internet_Access</th>\n",
       "      <th>Tutoring_Sessions</th>\n",
       "      <th>Family_Income</th>\n",
       "      <th>Teacher_Quality</th>\n",
       "      <th>School_Type</th>\n",
       "      <th>Peer_Influence</th>\n",
       "      <th>Physical_Activity</th>\n",
       "      <th>Learning_Disabilities</th>\n",
       "      <th>Parental_Education_Level</th>\n",
       "      <th>Distance_from_Home</th>\n",
       "      <th>Gender</th>\n",
       "      <th>Exam_Score</th>\n",
       "    </tr>\n",
       "  </thead>\n",
       "  <tbody>\n",
       "    <tr>\n",
       "      <th>0</th>\n",
       "      <td>23</td>\n",
       "      <td>84</td>\n",
       "      <td>Low</td>\n",
       "      <td>High</td>\n",
       "      <td>No</td>\n",
       "      <td>7</td>\n",
       "      <td>73</td>\n",
       "      <td>Low</td>\n",
       "      <td>Yes</td>\n",
       "      <td>0</td>\n",
       "      <td>Low</td>\n",
       "      <td>Medium</td>\n",
       "      <td>Public</td>\n",
       "      <td>Positive</td>\n",
       "      <td>3</td>\n",
       "      <td>No</td>\n",
       "      <td>High School</td>\n",
       "      <td>Near</td>\n",
       "      <td>Male</td>\n",
       "      <td>67</td>\n",
       "    </tr>\n",
       "    <tr>\n",
       "      <th>1</th>\n",
       "      <td>19</td>\n",
       "      <td>64</td>\n",
       "      <td>Low</td>\n",
       "      <td>Medium</td>\n",
       "      <td>No</td>\n",
       "      <td>8</td>\n",
       "      <td>59</td>\n",
       "      <td>Low</td>\n",
       "      <td>Yes</td>\n",
       "      <td>2</td>\n",
       "      <td>Medium</td>\n",
       "      <td>Medium</td>\n",
       "      <td>Public</td>\n",
       "      <td>Negative</td>\n",
       "      <td>4</td>\n",
       "      <td>No</td>\n",
       "      <td>College</td>\n",
       "      <td>Moderate</td>\n",
       "      <td>Female</td>\n",
       "      <td>61</td>\n",
       "    </tr>\n",
       "    <tr>\n",
       "      <th>2</th>\n",
       "      <td>24</td>\n",
       "      <td>98</td>\n",
       "      <td>Medium</td>\n",
       "      <td>Medium</td>\n",
       "      <td>Yes</td>\n",
       "      <td>7</td>\n",
       "      <td>91</td>\n",
       "      <td>Medium</td>\n",
       "      <td>Yes</td>\n",
       "      <td>2</td>\n",
       "      <td>Medium</td>\n",
       "      <td>Medium</td>\n",
       "      <td>Public</td>\n",
       "      <td>Neutral</td>\n",
       "      <td>4</td>\n",
       "      <td>No</td>\n",
       "      <td>Postgraduate</td>\n",
       "      <td>Near</td>\n",
       "      <td>Male</td>\n",
       "      <td>74</td>\n",
       "    </tr>\n",
       "    <tr>\n",
       "      <th>3</th>\n",
       "      <td>29</td>\n",
       "      <td>89</td>\n",
       "      <td>Low</td>\n",
       "      <td>Medium</td>\n",
       "      <td>Yes</td>\n",
       "      <td>8</td>\n",
       "      <td>98</td>\n",
       "      <td>Medium</td>\n",
       "      <td>Yes</td>\n",
       "      <td>1</td>\n",
       "      <td>Medium</td>\n",
       "      <td>Medium</td>\n",
       "      <td>Public</td>\n",
       "      <td>Negative</td>\n",
       "      <td>4</td>\n",
       "      <td>No</td>\n",
       "      <td>High School</td>\n",
       "      <td>Moderate</td>\n",
       "      <td>Male</td>\n",
       "      <td>71</td>\n",
       "    </tr>\n",
       "    <tr>\n",
       "      <th>4</th>\n",
       "      <td>19</td>\n",
       "      <td>92</td>\n",
       "      <td>Medium</td>\n",
       "      <td>Medium</td>\n",
       "      <td>Yes</td>\n",
       "      <td>6</td>\n",
       "      <td>65</td>\n",
       "      <td>Medium</td>\n",
       "      <td>Yes</td>\n",
       "      <td>3</td>\n",
       "      <td>Medium</td>\n",
       "      <td>High</td>\n",
       "      <td>Public</td>\n",
       "      <td>Neutral</td>\n",
       "      <td>4</td>\n",
       "      <td>No</td>\n",
       "      <td>College</td>\n",
       "      <td>Near</td>\n",
       "      <td>Female</td>\n",
       "      <td>70</td>\n",
       "    </tr>\n",
       "  </tbody>\n",
       "</table>\n",
       "</div>"
      ],
      "text/plain": [
       "   Hours_Studied  Attendance Parental_Involvement Access_to_Resources  \\\n",
       "0             23          84                  Low                High   \n",
       "1             19          64                  Low              Medium   \n",
       "2             24          98               Medium              Medium   \n",
       "3             29          89                  Low              Medium   \n",
       "4             19          92               Medium              Medium   \n",
       "\n",
       "  Extracurricular_Activities  Sleep_Hours  Previous_Scores Motivation_Level  \\\n",
       "0                         No            7               73              Low   \n",
       "1                         No            8               59              Low   \n",
       "2                        Yes            7               91           Medium   \n",
       "3                        Yes            8               98           Medium   \n",
       "4                        Yes            6               65           Medium   \n",
       "\n",
       "  Internet_Access  Tutoring_Sessions Family_Income Teacher_Quality  \\\n",
       "0             Yes                  0           Low          Medium   \n",
       "1             Yes                  2        Medium          Medium   \n",
       "2             Yes                  2        Medium          Medium   \n",
       "3             Yes                  1        Medium          Medium   \n",
       "4             Yes                  3        Medium            High   \n",
       "\n",
       "  School_Type Peer_Influence  Physical_Activity Learning_Disabilities  \\\n",
       "0      Public       Positive                  3                    No   \n",
       "1      Public       Negative                  4                    No   \n",
       "2      Public        Neutral                  4                    No   \n",
       "3      Public       Negative                  4                    No   \n",
       "4      Public        Neutral                  4                    No   \n",
       "\n",
       "  Parental_Education_Level Distance_from_Home  Gender  Exam_Score  \n",
       "0              High School               Near    Male          67  \n",
       "1                  College           Moderate  Female          61  \n",
       "2             Postgraduate               Near    Male          74  \n",
       "3              High School           Moderate    Male          71  \n",
       "4                  College               Near  Female          70  "
      ]
     },
     "execution_count": 5,
     "metadata": {},
     "output_type": "execute_result"
    }
   ],
   "source": [
    "df.head()"
   ]
  },
  {
   "cell_type": "code",
   "execution_count": 6,
   "metadata": {},
   "outputs": [
    {
     "data": {
      "text/plain": [
       "Index(['Hours_Studied', 'Attendance', 'Parental_Involvement',\n",
       "       'Access_to_Resources', 'Extracurricular_Activities', 'Sleep_Hours',\n",
       "       'Previous_Scores', 'Motivation_Level', 'Internet_Access',\n",
       "       'Tutoring_Sessions', 'Family_Income', 'Teacher_Quality', 'School_Type',\n",
       "       'Peer_Influence', 'Physical_Activity', 'Learning_Disabilities',\n",
       "       'Parental_Education_Level', 'Distance_from_Home', 'Gender',\n",
       "       'Exam_Score'],\n",
       "      dtype='object')"
      ]
     },
     "execution_count": 6,
     "metadata": {},
     "output_type": "execute_result"
    }
   ],
   "source": [
    "df.columns"
   ]
  },
  {
   "cell_type": "code",
   "execution_count": 7,
   "metadata": {},
   "outputs": [
    {
     "data": {
      "text/plain": [
       "(6607, 20)"
      ]
     },
     "execution_count": 7,
     "metadata": {},
     "output_type": "execute_result"
    }
   ],
   "source": [
    "df.shape"
   ]
  },
  {
   "cell_type": "code",
   "execution_count": 8,
   "metadata": {},
   "outputs": [
    {
     "data": {
      "text/html": [
       "<div>\n",
       "<style scoped>\n",
       "    .dataframe tbody tr th:only-of-type {\n",
       "        vertical-align: middle;\n",
       "    }\n",
       "\n",
       "    .dataframe tbody tr th {\n",
       "        vertical-align: top;\n",
       "    }\n",
       "\n",
       "    .dataframe thead th {\n",
       "        text-align: right;\n",
       "    }\n",
       "</style>\n",
       "<table border=\"1\" class=\"dataframe\">\n",
       "  <thead>\n",
       "    <tr style=\"text-align: right;\">\n",
       "      <th></th>\n",
       "      <th>Hours_Studied</th>\n",
       "      <th>Attendance</th>\n",
       "      <th>Sleep_Hours</th>\n",
       "      <th>Previous_Scores</th>\n",
       "      <th>Tutoring_Sessions</th>\n",
       "      <th>Physical_Activity</th>\n",
       "      <th>Exam_Score</th>\n",
       "    </tr>\n",
       "  </thead>\n",
       "  <tbody>\n",
       "    <tr>\n",
       "      <th>count</th>\n",
       "      <td>6607.000000</td>\n",
       "      <td>6607.000000</td>\n",
       "      <td>6607.00000</td>\n",
       "      <td>6607.000000</td>\n",
       "      <td>6607.000000</td>\n",
       "      <td>6607.000000</td>\n",
       "      <td>6607.000000</td>\n",
       "    </tr>\n",
       "    <tr>\n",
       "      <th>mean</th>\n",
       "      <td>19.975329</td>\n",
       "      <td>79.977448</td>\n",
       "      <td>7.02906</td>\n",
       "      <td>75.070531</td>\n",
       "      <td>1.493719</td>\n",
       "      <td>2.967610</td>\n",
       "      <td>67.235659</td>\n",
       "    </tr>\n",
       "    <tr>\n",
       "      <th>std</th>\n",
       "      <td>5.990594</td>\n",
       "      <td>11.547475</td>\n",
       "      <td>1.46812</td>\n",
       "      <td>14.399784</td>\n",
       "      <td>1.230570</td>\n",
       "      <td>1.031231</td>\n",
       "      <td>3.890456</td>\n",
       "    </tr>\n",
       "    <tr>\n",
       "      <th>min</th>\n",
       "      <td>1.000000</td>\n",
       "      <td>60.000000</td>\n",
       "      <td>4.00000</td>\n",
       "      <td>50.000000</td>\n",
       "      <td>0.000000</td>\n",
       "      <td>0.000000</td>\n",
       "      <td>55.000000</td>\n",
       "    </tr>\n",
       "    <tr>\n",
       "      <th>25%</th>\n",
       "      <td>16.000000</td>\n",
       "      <td>70.000000</td>\n",
       "      <td>6.00000</td>\n",
       "      <td>63.000000</td>\n",
       "      <td>1.000000</td>\n",
       "      <td>2.000000</td>\n",
       "      <td>65.000000</td>\n",
       "    </tr>\n",
       "    <tr>\n",
       "      <th>50%</th>\n",
       "      <td>20.000000</td>\n",
       "      <td>80.000000</td>\n",
       "      <td>7.00000</td>\n",
       "      <td>75.000000</td>\n",
       "      <td>1.000000</td>\n",
       "      <td>3.000000</td>\n",
       "      <td>67.000000</td>\n",
       "    </tr>\n",
       "    <tr>\n",
       "      <th>75%</th>\n",
       "      <td>24.000000</td>\n",
       "      <td>90.000000</td>\n",
       "      <td>8.00000</td>\n",
       "      <td>88.000000</td>\n",
       "      <td>2.000000</td>\n",
       "      <td>4.000000</td>\n",
       "      <td>69.000000</td>\n",
       "    </tr>\n",
       "    <tr>\n",
       "      <th>max</th>\n",
       "      <td>44.000000</td>\n",
       "      <td>100.000000</td>\n",
       "      <td>10.00000</td>\n",
       "      <td>100.000000</td>\n",
       "      <td>8.000000</td>\n",
       "      <td>6.000000</td>\n",
       "      <td>101.000000</td>\n",
       "    </tr>\n",
       "  </tbody>\n",
       "</table>\n",
       "</div>"
      ],
      "text/plain": [
       "       Hours_Studied   Attendance  Sleep_Hours  Previous_Scores  \\\n",
       "count    6607.000000  6607.000000   6607.00000      6607.000000   \n",
       "mean       19.975329    79.977448      7.02906        75.070531   \n",
       "std         5.990594    11.547475      1.46812        14.399784   \n",
       "min         1.000000    60.000000      4.00000        50.000000   \n",
       "25%        16.000000    70.000000      6.00000        63.000000   \n",
       "50%        20.000000    80.000000      7.00000        75.000000   \n",
       "75%        24.000000    90.000000      8.00000        88.000000   \n",
       "max        44.000000   100.000000     10.00000       100.000000   \n",
       "\n",
       "       Tutoring_Sessions  Physical_Activity   Exam_Score  \n",
       "count        6607.000000        6607.000000  6607.000000  \n",
       "mean            1.493719           2.967610    67.235659  \n",
       "std             1.230570           1.031231     3.890456  \n",
       "min             0.000000           0.000000    55.000000  \n",
       "25%             1.000000           2.000000    65.000000  \n",
       "50%             1.000000           3.000000    67.000000  \n",
       "75%             2.000000           4.000000    69.000000  \n",
       "max             8.000000           6.000000   101.000000  "
      ]
     },
     "execution_count": 8,
     "metadata": {},
     "output_type": "execute_result"
    }
   ],
   "source": [
    "df.describe()"
   ]
  },
  {
   "cell_type": "code",
   "execution_count": 9,
   "metadata": {},
   "outputs": [
    {
     "name": "stdout",
     "output_type": "stream",
     "text": [
      "<class 'pandas.core.frame.DataFrame'>\n",
      "RangeIndex: 6607 entries, 0 to 6606\n",
      "Data columns (total 20 columns):\n",
      " #   Column                      Non-Null Count  Dtype \n",
      "---  ------                      --------------  ----- \n",
      " 0   Hours_Studied               6607 non-null   int64 \n",
      " 1   Attendance                  6607 non-null   int64 \n",
      " 2   Parental_Involvement        6607 non-null   object\n",
      " 3   Access_to_Resources         6607 non-null   object\n",
      " 4   Extracurricular_Activities  6607 non-null   object\n",
      " 5   Sleep_Hours                 6607 non-null   int64 \n",
      " 6   Previous_Scores             6607 non-null   int64 \n",
      " 7   Motivation_Level            6607 non-null   object\n",
      " 8   Internet_Access             6607 non-null   object\n",
      " 9   Tutoring_Sessions           6607 non-null   int64 \n",
      " 10  Family_Income               6607 non-null   object\n",
      " 11  Teacher_Quality             6529 non-null   object\n",
      " 12  School_Type                 6607 non-null   object\n",
      " 13  Peer_Influence              6607 non-null   object\n",
      " 14  Physical_Activity           6607 non-null   int64 \n",
      " 15  Learning_Disabilities       6607 non-null   object\n",
      " 16  Parental_Education_Level    6517 non-null   object\n",
      " 17  Distance_from_Home          6540 non-null   object\n",
      " 18  Gender                      6607 non-null   object\n",
      " 19  Exam_Score                  6607 non-null   int64 \n",
      "dtypes: int64(7), object(13)\n",
      "memory usage: 1.0+ MB\n"
     ]
    }
   ],
   "source": [
    "df.info()"
   ]
  },
  {
   "cell_type": "code",
   "execution_count": 10,
   "metadata": {},
   "outputs": [
    {
     "data": {
      "text/plain": [
       "Hours_Studied                  0\n",
       "Attendance                     0\n",
       "Parental_Involvement           0\n",
       "Access_to_Resources            0\n",
       "Extracurricular_Activities     0\n",
       "Sleep_Hours                    0\n",
       "Previous_Scores                0\n",
       "Motivation_Level               0\n",
       "Internet_Access                0\n",
       "Tutoring_Sessions              0\n",
       "Family_Income                  0\n",
       "Teacher_Quality               78\n",
       "School_Type                    0\n",
       "Peer_Influence                 0\n",
       "Physical_Activity              0\n",
       "Learning_Disabilities          0\n",
       "Parental_Education_Level      90\n",
       "Distance_from_Home            67\n",
       "Gender                         0\n",
       "Exam_Score                     0\n",
       "dtype: int64"
      ]
     },
     "execution_count": 10,
     "metadata": {},
     "output_type": "execute_result"
    }
   ],
   "source": [
    "df.isna().sum()"
   ]
  },
  {
   "cell_type": "markdown",
   "metadata": {},
   "source": [
    "#### Copy Original DataFrame"
   ]
  },
  {
   "cell_type": "markdown",
   "metadata": {},
   "source": [
    "We will copy the original DataFrame to a new DataFrame to avoid any changes to the original DataFrame which we may need if there are any errors in data cleaning or data preprocessing."
   ]
  },
  {
   "cell_type": "code",
   "execution_count": 11,
   "metadata": {},
   "outputs": [],
   "source": [
    "df2 = df.copy()"
   ]
  },
  {
   "cell_type": "markdown",
   "metadata": {},
   "source": [
    "#### Drop Unnecessary Columns"
   ]
  },
  {
   "cell_type": "markdown",
   "metadata": {},
   "source": [
    "We drop certain columns because they are not necessary for our analysis (i.e. they are not part of the questions, Hypotheses, and Conjectures we are trying to answer)."
   ]
  },
  {
   "cell_type": "code",
   "execution_count": 12,
   "metadata": {},
   "outputs": [],
   "source": [
    "df2 = df.drop(columns = ['Access_to_Resources', 'Previous_Scores', 'Internet_Access', 'Teacher_Quality', 'Parental_Education_Level', 'Tutoring_Sessions', 'School_Type', 'Physical_Activity', 'Learning_Disabilities', 'Distance_from_Home'], inplace = False)"
   ]
  },
  {
   "cell_type": "markdown",
   "metadata": {},
   "source": [
    "With the below three lines of code, we notice that the column count has reduced from 20 to 10. "
   ]
  },
  {
   "cell_type": "code",
   "execution_count": 13,
   "metadata": {},
   "outputs": [
    {
     "data": {
      "text/html": [
       "<div>\n",
       "<style scoped>\n",
       "    .dataframe tbody tr th:only-of-type {\n",
       "        vertical-align: middle;\n",
       "    }\n",
       "\n",
       "    .dataframe tbody tr th {\n",
       "        vertical-align: top;\n",
       "    }\n",
       "\n",
       "    .dataframe thead th {\n",
       "        text-align: right;\n",
       "    }\n",
       "</style>\n",
       "<table border=\"1\" class=\"dataframe\">\n",
       "  <thead>\n",
       "    <tr style=\"text-align: right;\">\n",
       "      <th></th>\n",
       "      <th>Hours_Studied</th>\n",
       "      <th>Attendance</th>\n",
       "      <th>Parental_Involvement</th>\n",
       "      <th>Extracurricular_Activities</th>\n",
       "      <th>Sleep_Hours</th>\n",
       "      <th>Motivation_Level</th>\n",
       "      <th>Family_Income</th>\n",
       "      <th>Peer_Influence</th>\n",
       "      <th>Gender</th>\n",
       "      <th>Exam_Score</th>\n",
       "    </tr>\n",
       "  </thead>\n",
       "  <tbody>\n",
       "    <tr>\n",
       "      <th>0</th>\n",
       "      <td>23</td>\n",
       "      <td>84</td>\n",
       "      <td>Low</td>\n",
       "      <td>No</td>\n",
       "      <td>7</td>\n",
       "      <td>Low</td>\n",
       "      <td>Low</td>\n",
       "      <td>Positive</td>\n",
       "      <td>Male</td>\n",
       "      <td>67</td>\n",
       "    </tr>\n",
       "    <tr>\n",
       "      <th>1</th>\n",
       "      <td>19</td>\n",
       "      <td>64</td>\n",
       "      <td>Low</td>\n",
       "      <td>No</td>\n",
       "      <td>8</td>\n",
       "      <td>Low</td>\n",
       "      <td>Medium</td>\n",
       "      <td>Negative</td>\n",
       "      <td>Female</td>\n",
       "      <td>61</td>\n",
       "    </tr>\n",
       "    <tr>\n",
       "      <th>2</th>\n",
       "      <td>24</td>\n",
       "      <td>98</td>\n",
       "      <td>Medium</td>\n",
       "      <td>Yes</td>\n",
       "      <td>7</td>\n",
       "      <td>Medium</td>\n",
       "      <td>Medium</td>\n",
       "      <td>Neutral</td>\n",
       "      <td>Male</td>\n",
       "      <td>74</td>\n",
       "    </tr>\n",
       "    <tr>\n",
       "      <th>3</th>\n",
       "      <td>29</td>\n",
       "      <td>89</td>\n",
       "      <td>Low</td>\n",
       "      <td>Yes</td>\n",
       "      <td>8</td>\n",
       "      <td>Medium</td>\n",
       "      <td>Medium</td>\n",
       "      <td>Negative</td>\n",
       "      <td>Male</td>\n",
       "      <td>71</td>\n",
       "    </tr>\n",
       "    <tr>\n",
       "      <th>4</th>\n",
       "      <td>19</td>\n",
       "      <td>92</td>\n",
       "      <td>Medium</td>\n",
       "      <td>Yes</td>\n",
       "      <td>6</td>\n",
       "      <td>Medium</td>\n",
       "      <td>Medium</td>\n",
       "      <td>Neutral</td>\n",
       "      <td>Female</td>\n",
       "      <td>70</td>\n",
       "    </tr>\n",
       "  </tbody>\n",
       "</table>\n",
       "</div>"
      ],
      "text/plain": [
       "   Hours_Studied  Attendance Parental_Involvement Extracurricular_Activities  \\\n",
       "0             23          84                  Low                         No   \n",
       "1             19          64                  Low                         No   \n",
       "2             24          98               Medium                        Yes   \n",
       "3             29          89                  Low                        Yes   \n",
       "4             19          92               Medium                        Yes   \n",
       "\n",
       "   Sleep_Hours Motivation_Level Family_Income Peer_Influence  Gender  \\\n",
       "0            7              Low           Low       Positive    Male   \n",
       "1            8              Low        Medium       Negative  Female   \n",
       "2            7           Medium        Medium        Neutral    Male   \n",
       "3            8           Medium        Medium       Negative    Male   \n",
       "4            6           Medium        Medium        Neutral  Female   \n",
       "\n",
       "   Exam_Score  \n",
       "0          67  \n",
       "1          61  \n",
       "2          74  \n",
       "3          71  \n",
       "4          70  "
      ]
     },
     "execution_count": 13,
     "metadata": {},
     "output_type": "execute_result"
    }
   ],
   "source": [
    "df2.head()\n"
   ]
  },
  {
   "cell_type": "code",
   "execution_count": 14,
   "metadata": {},
   "outputs": [
    {
     "data": {
      "text/plain": [
       "Index(['Hours_Studied', 'Attendance', 'Parental_Involvement',\n",
       "       'Extracurricular_Activities', 'Sleep_Hours', 'Motivation_Level',\n",
       "       'Family_Income', 'Peer_Influence', 'Gender', 'Exam_Score'],\n",
       "      dtype='object')"
      ]
     },
     "execution_count": 14,
     "metadata": {},
     "output_type": "execute_result"
    }
   ],
   "source": [
    "df2.columns"
   ]
  },
  {
   "cell_type": "code",
   "execution_count": 15,
   "metadata": {},
   "outputs": [
    {
     "data": {
      "text/plain": [
       "(6607, 10)"
      ]
     },
     "execution_count": 15,
     "metadata": {},
     "output_type": "execute_result"
    }
   ],
   "source": [
    "df2.shape"
   ]
  },
  {
   "cell_type": "markdown",
   "metadata": {},
   "source": [
    "#### 3. Data Cleaning"
   ]
  },
  {
   "cell_type": "markdown",
   "metadata": {},
   "source": [
    "#### One Hot Encoding & Label Encoding"
   ]
  },
  {
   "cell_type": "code",
   "execution_count": 16,
   "metadata": {},
   "outputs": [],
   "source": [
    "# NOTE for Editors: We will have to change the names of the columns we are using here after rename command.\n",
    "columns_to_apply_func = ['Motivation_Level', 'Family_Income', 'Peer_Influence', 'Parental_Involvement']\n",
    "\n",
    "def f(x):\n",
    "    if (x == \"Low\") | (x == \"Negative\"):\n",
    "        return 0\n",
    "    elif (x == 'Medium') | (x == \"Neutral\"):\n",
    "        return 0.5\n",
    "    elif (x == 'High') | (x == \"Positive\"):\n",
    "        return 1\n",
    "\n",
    "for col in columns_to_apply_func:\n",
    "    df2[col] = df2[col].apply(f)"
   ]
  },
  {
   "cell_type": "markdown",
   "metadata": {},
   "source": [
    "Any value in the column that does not match 'Yes' or 'No' becomes NaN after the mapping\n",
    "This is just for error checking (i.e. to ensure that all values in the columns are either 'Yes' or 'No')."
   ]
  },
  {
   "cell_type": "code",
   "execution_count": 17,
   "metadata": {},
   "outputs": [],
   "source": [
    "df2['Extracurricular_Activities'] = df2['Extracurricular_Activities'].map({'Yes': 1, 'No': 0}).fillna(0)"
   ]
  },
  {
   "cell_type": "code",
   "execution_count": 18,
   "metadata": {},
   "outputs": [],
   "source": [
    "# Gender is binary in this dataset. If it was not, we would have to use one-hot encoding. \n",
    "# We will use label encoding here because it is binary.\n",
    "df2['Gender'] = df2['Gender'].map({'Female': 0, 'Male': 1}) "
   ]
  },
  {
   "cell_type": "markdown",
   "metadata": {},
   "source": [
    "#### Analyzing and Describing Final DataFrame"
   ]
  },
  {
   "cell_type": "code",
   "execution_count": 19,
   "metadata": {},
   "outputs": [
    {
     "data": {
      "text/html": [
       "<div>\n",
       "<style scoped>\n",
       "    .dataframe tbody tr th:only-of-type {\n",
       "        vertical-align: middle;\n",
       "    }\n",
       "\n",
       "    .dataframe tbody tr th {\n",
       "        vertical-align: top;\n",
       "    }\n",
       "\n",
       "    .dataframe thead th {\n",
       "        text-align: right;\n",
       "    }\n",
       "</style>\n",
       "<table border=\"1\" class=\"dataframe\">\n",
       "  <thead>\n",
       "    <tr style=\"text-align: right;\">\n",
       "      <th></th>\n",
       "      <th>Hours_Studied</th>\n",
       "      <th>Attendance</th>\n",
       "      <th>Parental_Involvement</th>\n",
       "      <th>Extracurricular_Activities</th>\n",
       "      <th>Sleep_Hours</th>\n",
       "      <th>Motivation_Level</th>\n",
       "      <th>Family_Income</th>\n",
       "      <th>Peer_Influence</th>\n",
       "      <th>Gender</th>\n",
       "      <th>Exam_Score</th>\n",
       "    </tr>\n",
       "  </thead>\n",
       "  <tbody>\n",
       "    <tr>\n",
       "      <th>0</th>\n",
       "      <td>23</td>\n",
       "      <td>84</td>\n",
       "      <td>0.0</td>\n",
       "      <td>0</td>\n",
       "      <td>7</td>\n",
       "      <td>0.0</td>\n",
       "      <td>0.0</td>\n",
       "      <td>1.0</td>\n",
       "      <td>1</td>\n",
       "      <td>67</td>\n",
       "    </tr>\n",
       "    <tr>\n",
       "      <th>1</th>\n",
       "      <td>19</td>\n",
       "      <td>64</td>\n",
       "      <td>0.0</td>\n",
       "      <td>0</td>\n",
       "      <td>8</td>\n",
       "      <td>0.0</td>\n",
       "      <td>0.5</td>\n",
       "      <td>0.0</td>\n",
       "      <td>0</td>\n",
       "      <td>61</td>\n",
       "    </tr>\n",
       "    <tr>\n",
       "      <th>2</th>\n",
       "      <td>24</td>\n",
       "      <td>98</td>\n",
       "      <td>0.5</td>\n",
       "      <td>1</td>\n",
       "      <td>7</td>\n",
       "      <td>0.5</td>\n",
       "      <td>0.5</td>\n",
       "      <td>0.5</td>\n",
       "      <td>1</td>\n",
       "      <td>74</td>\n",
       "    </tr>\n",
       "    <tr>\n",
       "      <th>3</th>\n",
       "      <td>29</td>\n",
       "      <td>89</td>\n",
       "      <td>0.0</td>\n",
       "      <td>1</td>\n",
       "      <td>8</td>\n",
       "      <td>0.5</td>\n",
       "      <td>0.5</td>\n",
       "      <td>0.0</td>\n",
       "      <td>1</td>\n",
       "      <td>71</td>\n",
       "    </tr>\n",
       "    <tr>\n",
       "      <th>4</th>\n",
       "      <td>19</td>\n",
       "      <td>92</td>\n",
       "      <td>0.5</td>\n",
       "      <td>1</td>\n",
       "      <td>6</td>\n",
       "      <td>0.5</td>\n",
       "      <td>0.5</td>\n",
       "      <td>0.5</td>\n",
       "      <td>0</td>\n",
       "      <td>70</td>\n",
       "    </tr>\n",
       "  </tbody>\n",
       "</table>\n",
       "</div>"
      ],
      "text/plain": [
       "   Hours_Studied  Attendance  Parental_Involvement  \\\n",
       "0             23          84                   0.0   \n",
       "1             19          64                   0.0   \n",
       "2             24          98                   0.5   \n",
       "3             29          89                   0.0   \n",
       "4             19          92                   0.5   \n",
       "\n",
       "   Extracurricular_Activities  Sleep_Hours  Motivation_Level  Family_Income  \\\n",
       "0                           0            7               0.0            0.0   \n",
       "1                           0            8               0.0            0.5   \n",
       "2                           1            7               0.5            0.5   \n",
       "3                           1            8               0.5            0.5   \n",
       "4                           1            6               0.5            0.5   \n",
       "\n",
       "   Peer_Influence  Gender  Exam_Score  \n",
       "0             1.0       1          67  \n",
       "1             0.0       0          61  \n",
       "2             0.5       1          74  \n",
       "3             0.0       1          71  \n",
       "4             0.5       0          70  "
      ]
     },
     "execution_count": 19,
     "metadata": {},
     "output_type": "execute_result"
    }
   ],
   "source": [
    "df2.head()"
   ]
  },
  {
   "cell_type": "code",
   "execution_count": 20,
   "metadata": {},
   "outputs": [
    {
     "data": {
      "text/html": [
       "<div>\n",
       "<style scoped>\n",
       "    .dataframe tbody tr th:only-of-type {\n",
       "        vertical-align: middle;\n",
       "    }\n",
       "\n",
       "    .dataframe tbody tr th {\n",
       "        vertical-align: top;\n",
       "    }\n",
       "\n",
       "    .dataframe thead th {\n",
       "        text-align: right;\n",
       "    }\n",
       "</style>\n",
       "<table border=\"1\" class=\"dataframe\">\n",
       "  <thead>\n",
       "    <tr style=\"text-align: right;\">\n",
       "      <th></th>\n",
       "      <th>Hours_Studied</th>\n",
       "      <th>Attendance</th>\n",
       "      <th>Parental_Involvement</th>\n",
       "      <th>Extracurricular_Activities</th>\n",
       "      <th>Sleep_Hours</th>\n",
       "      <th>Motivation_Level</th>\n",
       "      <th>Family_Income</th>\n",
       "      <th>Peer_Influence</th>\n",
       "      <th>Gender</th>\n",
       "      <th>Exam_Score</th>\n",
       "    </tr>\n",
       "  </thead>\n",
       "  <tbody>\n",
       "    <tr>\n",
       "      <th>count</th>\n",
       "      <td>6607.000000</td>\n",
       "      <td>6607.000000</td>\n",
       "      <td>6607.000000</td>\n",
       "      <td>6607.000000</td>\n",
       "      <td>6607.00000</td>\n",
       "      <td>6607.000000</td>\n",
       "      <td>6607.000000</td>\n",
       "      <td>6607.000000</td>\n",
       "      <td>6607.000000</td>\n",
       "      <td>6607.000000</td>\n",
       "    </tr>\n",
       "    <tr>\n",
       "      <th>mean</th>\n",
       "      <td>19.975329</td>\n",
       "      <td>79.977448</td>\n",
       "      <td>0.543212</td>\n",
       "      <td>0.596035</td>\n",
       "      <td>7.02906</td>\n",
       "      <td>0.453231</td>\n",
       "      <td>0.393825</td>\n",
       "      <td>0.595429</td>\n",
       "      <td>0.577267</td>\n",
       "      <td>67.235659</td>\n",
       "    </tr>\n",
       "    <tr>\n",
       "      <th>std</th>\n",
       "      <td>5.990594</td>\n",
       "      <td>11.547475</td>\n",
       "      <td>0.347761</td>\n",
       "      <td>0.490728</td>\n",
       "      <td>1.46812</td>\n",
       "      <td>0.347899</td>\n",
       "      <td>0.371308</td>\n",
       "      <td>0.377938</td>\n",
       "      <td>0.494031</td>\n",
       "      <td>3.890456</td>\n",
       "    </tr>\n",
       "    <tr>\n",
       "      <th>min</th>\n",
       "      <td>1.000000</td>\n",
       "      <td>60.000000</td>\n",
       "      <td>0.000000</td>\n",
       "      <td>0.000000</td>\n",
       "      <td>4.00000</td>\n",
       "      <td>0.000000</td>\n",
       "      <td>0.000000</td>\n",
       "      <td>0.000000</td>\n",
       "      <td>0.000000</td>\n",
       "      <td>55.000000</td>\n",
       "    </tr>\n",
       "    <tr>\n",
       "      <th>25%</th>\n",
       "      <td>16.000000</td>\n",
       "      <td>70.000000</td>\n",
       "      <td>0.500000</td>\n",
       "      <td>0.000000</td>\n",
       "      <td>6.00000</td>\n",
       "      <td>0.000000</td>\n",
       "      <td>0.000000</td>\n",
       "      <td>0.500000</td>\n",
       "      <td>0.000000</td>\n",
       "      <td>65.000000</td>\n",
       "    </tr>\n",
       "    <tr>\n",
       "      <th>50%</th>\n",
       "      <td>20.000000</td>\n",
       "      <td>80.000000</td>\n",
       "      <td>0.500000</td>\n",
       "      <td>1.000000</td>\n",
       "      <td>7.00000</td>\n",
       "      <td>0.500000</td>\n",
       "      <td>0.500000</td>\n",
       "      <td>0.500000</td>\n",
       "      <td>1.000000</td>\n",
       "      <td>67.000000</td>\n",
       "    </tr>\n",
       "    <tr>\n",
       "      <th>75%</th>\n",
       "      <td>24.000000</td>\n",
       "      <td>90.000000</td>\n",
       "      <td>1.000000</td>\n",
       "      <td>1.000000</td>\n",
       "      <td>8.00000</td>\n",
       "      <td>0.500000</td>\n",
       "      <td>0.500000</td>\n",
       "      <td>1.000000</td>\n",
       "      <td>1.000000</td>\n",
       "      <td>69.000000</td>\n",
       "    </tr>\n",
       "    <tr>\n",
       "      <th>max</th>\n",
       "      <td>44.000000</td>\n",
       "      <td>100.000000</td>\n",
       "      <td>1.000000</td>\n",
       "      <td>1.000000</td>\n",
       "      <td>10.00000</td>\n",
       "      <td>1.000000</td>\n",
       "      <td>1.000000</td>\n",
       "      <td>1.000000</td>\n",
       "      <td>1.000000</td>\n",
       "      <td>101.000000</td>\n",
       "    </tr>\n",
       "  </tbody>\n",
       "</table>\n",
       "</div>"
      ],
      "text/plain": [
       "       Hours_Studied   Attendance  Parental_Involvement  \\\n",
       "count    6607.000000  6607.000000           6607.000000   \n",
       "mean       19.975329    79.977448              0.543212   \n",
       "std         5.990594    11.547475              0.347761   \n",
       "min         1.000000    60.000000              0.000000   \n",
       "25%        16.000000    70.000000              0.500000   \n",
       "50%        20.000000    80.000000              0.500000   \n",
       "75%        24.000000    90.000000              1.000000   \n",
       "max        44.000000   100.000000              1.000000   \n",
       "\n",
       "       Extracurricular_Activities  Sleep_Hours  Motivation_Level  \\\n",
       "count                 6607.000000   6607.00000       6607.000000   \n",
       "mean                     0.596035      7.02906          0.453231   \n",
       "std                      0.490728      1.46812          0.347899   \n",
       "min                      0.000000      4.00000          0.000000   \n",
       "25%                      0.000000      6.00000          0.000000   \n",
       "50%                      1.000000      7.00000          0.500000   \n",
       "75%                      1.000000      8.00000          0.500000   \n",
       "max                      1.000000     10.00000          1.000000   \n",
       "\n",
       "       Family_Income  Peer_Influence       Gender   Exam_Score  \n",
       "count    6607.000000     6607.000000  6607.000000  6607.000000  \n",
       "mean        0.393825        0.595429     0.577267    67.235659  \n",
       "std         0.371308        0.377938     0.494031     3.890456  \n",
       "min         0.000000        0.000000     0.000000    55.000000  \n",
       "25%         0.000000        0.500000     0.000000    65.000000  \n",
       "50%         0.500000        0.500000     1.000000    67.000000  \n",
       "75%         0.500000        1.000000     1.000000    69.000000  \n",
       "max         1.000000        1.000000     1.000000   101.000000  "
      ]
     },
     "execution_count": 20,
     "metadata": {},
     "output_type": "execute_result"
    }
   ],
   "source": [
    "df2.describe()"
   ]
  },
  {
   "cell_type": "code",
   "execution_count": 21,
   "metadata": {},
   "outputs": [
    {
     "name": "stdout",
     "output_type": "stream",
     "text": [
      "<class 'pandas.core.frame.DataFrame'>\n",
      "RangeIndex: 6607 entries, 0 to 6606\n",
      "Data columns (total 10 columns):\n",
      " #   Column                      Non-Null Count  Dtype  \n",
      "---  ------                      --------------  -----  \n",
      " 0   Hours_Studied               6607 non-null   int64  \n",
      " 1   Attendance                  6607 non-null   int64  \n",
      " 2   Parental_Involvement        6607 non-null   float64\n",
      " 3   Extracurricular_Activities  6607 non-null   int64  \n",
      " 4   Sleep_Hours                 6607 non-null   int64  \n",
      " 5   Motivation_Level            6607 non-null   float64\n",
      " 6   Family_Income               6607 non-null   float64\n",
      " 7   Peer_Influence              6607 non-null   float64\n",
      " 8   Gender                      6607 non-null   int64  \n",
      " 9   Exam_Score                  6607 non-null   int64  \n",
      "dtypes: float64(4), int64(6)\n",
      "memory usage: 516.3 KB\n"
     ]
    }
   ],
   "source": [
    "df2.info()"
   ]
  },
  {
   "cell_type": "markdown",
   "metadata": {},
   "source": [
    "After encoding the columns, we notice that we do not have any missing values in the DataFrame which will help us later on in data analysis, data visualization, and building machine learning models."
   ]
  },
  {
   "cell_type": "code",
   "execution_count": 22,
   "metadata": {},
   "outputs": [
    {
     "data": {
      "text/plain": [
       "Hours_Studied                 0\n",
       "Attendance                    0\n",
       "Parental_Involvement          0\n",
       "Extracurricular_Activities    0\n",
       "Sleep_Hours                   0\n",
       "Motivation_Level              0\n",
       "Family_Income                 0\n",
       "Peer_Influence                0\n",
       "Gender                        0\n",
       "Exam_Score                    0\n",
       "dtype: int64"
      ]
     },
     "execution_count": 22,
     "metadata": {},
     "output_type": "execute_result"
    }
   ],
   "source": [
    "df2.isna().sum()"
   ]
  },
  {
   "cell_type": "code",
   "execution_count": null,
   "metadata": {},
   "outputs": [],
   "source": []
  }
 ],
 "metadata": {
  "kernelspec": {
   "display_name": "base",
   "language": "python",
   "name": "python3"
  },
  "language_info": {
   "codemirror_mode": {
    "name": "ipython",
    "version": 3
   },
   "file_extension": ".py",
   "mimetype": "text/x-python",
   "name": "python",
   "nbconvert_exporter": "python",
   "pygments_lexer": "ipython3",
   "version": "3.10.9"
  }
 },
 "nbformat": 4,
 "nbformat_minor": 2
}
