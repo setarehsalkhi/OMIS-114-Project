{
 "cells": [
  {
   "cell_type": "code",
   "execution_count": 2,
   "metadata": {},
   "outputs": [],
   "source": [
    "import pandas as pd\n",
    "import numpy as np \n",
    "from sklearn.linear_model import LinearRegression\n",
    "from sklearn.model_selection import train_test_split"
   ]
  },
  {
   "cell_type": "code",
   "execution_count": 3,
   "metadata": {},
   "outputs": [],
   "source": [
    "df = pd.read_csv(\"StudentPerformanceFactors.csv\")\n",
    "df2 = df.drop(columns = ['Access_to_Resources', 'Previous_Scores', 'Internet_Access', 'Teacher_Quality', 'Parental_Education_Level', 'Tutoring_Sessions', 'School_Type', 'Physical_Activity', 'Learning_Disabilities', 'Distance_from_Home'], inplace = False)\n",
    "\n",
    "def f(x):\n",
    "    if (x == \"Low\") | (x == \"Negative\"):\n",
    "        return 0\n",
    "    elif (x == 'Medium') | (x == \"Neutral\"):\n",
    "        return 0.5\n",
    "    elif (x == 'High') | (x == \"Positive\"):\n",
    "        return 1\n",
    "df2['Motivation_Level'] = df2['Motivation_Level'].apply(f)\n",
    "df2['Family_Income'] = df2['Family_Income'].apply(f)\n",
    "df2['Peer_Influence'] = df2['Peer_Influence'].apply(f)\n",
    "\n",
    "def g(x):\n",
    "    if x == \"Yes\":\n",
    "        return 1.0\n",
    "    elif x == \"No\":\n",
    "        return 0.0\n",
    "df2['Extracurricular_Activities'] = df2['Extracurricular_Activities'].apply(g)\n"
   ]
  }
 ],
 "metadata": {
  "kernelspec": {
   "display_name": "base",
   "language": "python",
   "name": "python3"
  },
  "language_info": {
   "codemirror_mode": {
    "name": "ipython",
    "version": 3
   },
   "file_extension": ".py",
   "mimetype": "text/x-python",
   "name": "python",
   "nbconvert_exporter": "python",
   "pygments_lexer": "ipython3",
   "version": "3.12.2"
  }
 },
 "nbformat": 4,
 "nbformat_minor": 2
}
