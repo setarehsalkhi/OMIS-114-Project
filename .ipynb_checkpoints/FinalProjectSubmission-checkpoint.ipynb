{
 "cells": [
  {
   "cell_type": "markdown",
   "metadata": {},
   "source": [
    "**Table of contents**<a id='toc0_'></a>    \n",
    "- 1. [Central Research Question: <b> Which factors are most correlated with student performance?](#toc1_)    \n",
    "  - 1.1. [Hypothesis 1: **There is a positive correlation between study hours and attendance record. Moreover, both are positively associated with exam performance.**](#toc1_1_)    \n",
    "  - 1.2. [Hypothesis 2: **Lower motivation levels are associated with lower exam scores, and vice versa, higher motivation levels are positively associated with higher exam scores.**](#toc1_2_)    \n",
    "  - 1.3. [Hypothesis 3: **High parental involvement and positive peer influence positively impact student performance in exams.**](#toc1_3_)    \n",
    "- 2. [Data Preparation](#toc2_)    \n",
    "  - 2.1. [Looking at the Updated DataFrame](#toc2_1_)    \n",
    "  - 2.2. [Data Dictionary](#toc2_2_)    \n",
    "- 3. [Findings](#toc3_)    \n",
    "  - 3.1. [Hypothesis 1](#toc3_1_)    \n",
    "  - 3.2. [Finding 1](#toc3_2_)    \n",
    "  - 3.3. [Hypothesis 2](#toc3_3_)    \n",
    "  - 3.4. [Finding 2](#toc3_4_)    \n",
    "  - 3.5. [Hypothesis 3](#toc3_5_)    \n",
    "  - 3.6. [Finding 3](#toc3_6_)    \n",
    "\n",
    "<!-- vscode-jupyter-toc-config\n",
    "\tnumbering=true\n",
    "\tanchor=true\n",
    "\tflat=false\n",
    "\tminLevel=2\n",
    "\tmaxLevel=6\n",
    "\t/vscode-jupyter-toc-config -->\n",
    "<!-- THIS CELL WILL BE REPLACED ON TOC UPDATE. DO NOT WRITE YOUR TEXT IN THIS CELL -->"
   ]
  },
  {
   "cell_type": "code",
   "execution_count": 317,
   "metadata": {},
   "outputs": [
    {
     "data": {
      "application/javascript": [
       "IPython.notebook.set_autosave_interval(0)"
      ]
     },
     "metadata": {},
     "output_type": "display_data"
    },
    {
     "name": "stdout",
     "output_type": "stream",
     "text": [
      "Autosave disabled\n"
     ]
    }
   ],
   "source": [
    "%autosave 0"
   ]
  },
  {
   "cell_type": "code",
   "execution_count": 319,
   "metadata": {},
   "outputs": [],
   "source": [
    "# print all the outputs in a cell\n",
    "from IPython.core.interactiveshell import InteractiveShell\n",
    "InteractiveShell.ast_node_interactivity = \"all\""
   ]
  },
  {
   "cell_type": "code",
   "execution_count": 320,
   "metadata": {},
   "outputs": [],
   "source": [
    "import pandas as pd\n",
    "import numpy as np \n",
    "import seaborn as sns \n",
    "import matplotlib.pyplot as plt\n",
    "from sklearn.model_selection import train_test_split\n",
    "from sklearn.preprocessing import StandardScaler\n",
    "import statsmodels.api as sm"
   ]
  },
  {
   "cell_type": "markdown",
   "metadata": {},
   "source": [
    "# Student Performance Factors"
   ]
  },
  {
   "cell_type": "markdown",
   "metadata": {},
   "source": [
    "This dataset provides a comprehensive overview of select factors affecting student performance on exams. Each observation is representative of one student's information, including information on her/his attendance, parental involvement, study hours, other aspects influencing her/his academic success, and her/his final exam scores.\n",
    "\n",
    "A data dictionary will be provided upon cleaning the dataset to more accurately describe our variables of interest. Below is an intitial look at the DataFrame."
   ]
  },
  {
   "cell_type": "code",
   "execution_count": 325,
   "metadata": {},
   "outputs": [],
   "source": [
    "# Load the data\n",
    "df = pd.read_csv(\"StudentPerformanceFactors.csv\")"
   ]
  },
  {
   "cell_type": "code",
   "execution_count": 327,
   "metadata": {},
   "outputs": [
    {
     "data": {
      "text/html": [
       "<div>\n",
       "<style scoped>\n",
       "    .dataframe tbody tr th:only-of-type {\n",
       "        vertical-align: middle;\n",
       "    }\n",
       "\n",
       "    .dataframe tbody tr th {\n",
       "        vertical-align: top;\n",
       "    }\n",
       "\n",
       "    .dataframe thead th {\n",
       "        text-align: right;\n",
       "    }\n",
       "</style>\n",
       "<table border=\"1\" class=\"dataframe\">\n",
       "  <thead>\n",
       "    <tr style=\"text-align: right;\">\n",
       "      <th></th>\n",
       "      <th>Hours_Studied</th>\n",
       "      <th>Attendance</th>\n",
       "      <th>Parental_Involvement</th>\n",
       "      <th>Access_to_Resources</th>\n",
       "      <th>Extracurricular_Activities</th>\n",
       "      <th>Sleep_Hours</th>\n",
       "      <th>Previous_Scores</th>\n",
       "      <th>Motivation_Level</th>\n",
       "      <th>Internet_Access</th>\n",
       "      <th>Tutoring_Sessions</th>\n",
       "      <th>Family_Income</th>\n",
       "      <th>Teacher_Quality</th>\n",
       "      <th>School_Type</th>\n",
       "      <th>Peer_Influence</th>\n",
       "      <th>Physical_Activity</th>\n",
       "      <th>Learning_Disabilities</th>\n",
       "      <th>Parental_Education_Level</th>\n",
       "      <th>Distance_from_Home</th>\n",
       "      <th>Gender</th>\n",
       "      <th>Exam_Score</th>\n",
       "    </tr>\n",
       "  </thead>\n",
       "  <tbody>\n",
       "    <tr>\n",
       "      <th>0</th>\n",
       "      <td>23</td>\n",
       "      <td>84</td>\n",
       "      <td>Low</td>\n",
       "      <td>High</td>\n",
       "      <td>No</td>\n",
       "      <td>7</td>\n",
       "      <td>73</td>\n",
       "      <td>Low</td>\n",
       "      <td>Yes</td>\n",
       "      <td>0</td>\n",
       "      <td>Low</td>\n",
       "      <td>Medium</td>\n",
       "      <td>Public</td>\n",
       "      <td>Positive</td>\n",
       "      <td>3</td>\n",
       "      <td>No</td>\n",
       "      <td>High School</td>\n",
       "      <td>Near</td>\n",
       "      <td>Male</td>\n",
       "      <td>67</td>\n",
       "    </tr>\n",
       "    <tr>\n",
       "      <th>1</th>\n",
       "      <td>19</td>\n",
       "      <td>64</td>\n",
       "      <td>Low</td>\n",
       "      <td>Medium</td>\n",
       "      <td>No</td>\n",
       "      <td>8</td>\n",
       "      <td>59</td>\n",
       "      <td>Low</td>\n",
       "      <td>Yes</td>\n",
       "      <td>2</td>\n",
       "      <td>Medium</td>\n",
       "      <td>Medium</td>\n",
       "      <td>Public</td>\n",
       "      <td>Negative</td>\n",
       "      <td>4</td>\n",
       "      <td>No</td>\n",
       "      <td>College</td>\n",
       "      <td>Moderate</td>\n",
       "      <td>Female</td>\n",
       "      <td>61</td>\n",
       "    </tr>\n",
       "    <tr>\n",
       "      <th>2</th>\n",
       "      <td>24</td>\n",
       "      <td>98</td>\n",
       "      <td>Medium</td>\n",
       "      <td>Medium</td>\n",
       "      <td>Yes</td>\n",
       "      <td>7</td>\n",
       "      <td>91</td>\n",
       "      <td>Medium</td>\n",
       "      <td>Yes</td>\n",
       "      <td>2</td>\n",
       "      <td>Medium</td>\n",
       "      <td>Medium</td>\n",
       "      <td>Public</td>\n",
       "      <td>Neutral</td>\n",
       "      <td>4</td>\n",
       "      <td>No</td>\n",
       "      <td>Postgraduate</td>\n",
       "      <td>Near</td>\n",
       "      <td>Male</td>\n",
       "      <td>74</td>\n",
       "    </tr>\n",
       "    <tr>\n",
       "      <th>3</th>\n",
       "      <td>29</td>\n",
       "      <td>89</td>\n",
       "      <td>Low</td>\n",
       "      <td>Medium</td>\n",
       "      <td>Yes</td>\n",
       "      <td>8</td>\n",
       "      <td>98</td>\n",
       "      <td>Medium</td>\n",
       "      <td>Yes</td>\n",
       "      <td>1</td>\n",
       "      <td>Medium</td>\n",
       "      <td>Medium</td>\n",
       "      <td>Public</td>\n",
       "      <td>Negative</td>\n",
       "      <td>4</td>\n",
       "      <td>No</td>\n",
       "      <td>High School</td>\n",
       "      <td>Moderate</td>\n",
       "      <td>Male</td>\n",
       "      <td>71</td>\n",
       "    </tr>\n",
       "    <tr>\n",
       "      <th>4</th>\n",
       "      <td>19</td>\n",
       "      <td>92</td>\n",
       "      <td>Medium</td>\n",
       "      <td>Medium</td>\n",
       "      <td>Yes</td>\n",
       "      <td>6</td>\n",
       "      <td>65</td>\n",
       "      <td>Medium</td>\n",
       "      <td>Yes</td>\n",
       "      <td>3</td>\n",
       "      <td>Medium</td>\n",
       "      <td>High</td>\n",
       "      <td>Public</td>\n",
       "      <td>Neutral</td>\n",
       "      <td>4</td>\n",
       "      <td>No</td>\n",
       "      <td>College</td>\n",
       "      <td>Near</td>\n",
       "      <td>Female</td>\n",
       "      <td>70</td>\n",
       "    </tr>\n",
       "  </tbody>\n",
       "</table>\n",
       "</div>"
      ],
      "text/plain": [
       "   Hours_Studied  Attendance Parental_Involvement Access_to_Resources  \\\n",
       "0             23          84                  Low                High   \n",
       "1             19          64                  Low              Medium   \n",
       "2             24          98               Medium              Medium   \n",
       "3             29          89                  Low              Medium   \n",
       "4             19          92               Medium              Medium   \n",
       "\n",
       "  Extracurricular_Activities  Sleep_Hours  Previous_Scores Motivation_Level  \\\n",
       "0                         No            7               73              Low   \n",
       "1                         No            8               59              Low   \n",
       "2                        Yes            7               91           Medium   \n",
       "3                        Yes            8               98           Medium   \n",
       "4                        Yes            6               65           Medium   \n",
       "\n",
       "  Internet_Access  Tutoring_Sessions Family_Income Teacher_Quality  \\\n",
       "0             Yes                  0           Low          Medium   \n",
       "1             Yes                  2        Medium          Medium   \n",
       "2             Yes                  2        Medium          Medium   \n",
       "3             Yes                  1        Medium          Medium   \n",
       "4             Yes                  3        Medium            High   \n",
       "\n",
       "  School_Type Peer_Influence  Physical_Activity Learning_Disabilities  \\\n",
       "0      Public       Positive                  3                    No   \n",
       "1      Public       Negative                  4                    No   \n",
       "2      Public        Neutral                  4                    No   \n",
       "3      Public       Negative                  4                    No   \n",
       "4      Public        Neutral                  4                    No   \n",
       "\n",
       "  Parental_Education_Level Distance_from_Home  Gender  Exam_Score  \n",
       "0              High School               Near    Male          67  \n",
       "1                  College           Moderate  Female          61  \n",
       "2             Postgraduate               Near    Male          74  \n",
       "3              High School           Moderate    Male          71  \n",
       "4                  College               Near  Female          70  "
      ]
     },
     "execution_count": 327,
     "metadata": {},
     "output_type": "execute_result"
    },
    {
     "data": {
      "text/plain": [
       "Index(['Hours_Studied', 'Attendance', 'Parental_Involvement',\n",
       "       'Access_to_Resources', 'Extracurricular_Activities', 'Sleep_Hours',\n",
       "       'Previous_Scores', 'Motivation_Level', 'Internet_Access',\n",
       "       'Tutoring_Sessions', 'Family_Income', 'Teacher_Quality', 'School_Type',\n",
       "       'Peer_Influence', 'Physical_Activity', 'Learning_Disabilities',\n",
       "       'Parental_Education_Level', 'Distance_from_Home', 'Gender',\n",
       "       'Exam_Score'],\n",
       "      dtype='object')"
      ]
     },
     "execution_count": 327,
     "metadata": {},
     "output_type": "execute_result"
    },
    {
     "data": {
      "text/plain": [
       "(6607, 20)"
      ]
     },
     "execution_count": 327,
     "metadata": {},
     "output_type": "execute_result"
    }
   ],
   "source": [
    "# Look at the data\n",
    "df.head()\n",
    "df.columns\n",
    "df.shape"
   ]
  },
  {
   "cell_type": "code",
   "execution_count": 329,
   "metadata": {},
   "outputs": [
    {
     "data": {
      "text/plain": [
       "(6607, 20)"
      ]
     },
     "execution_count": 329,
     "metadata": {},
     "output_type": "execute_result"
    }
   ],
   "source": [
    "df.shape"
   ]
  },
  {
   "cell_type": "code",
   "execution_count": 331,
   "metadata": {},
   "outputs": [
    {
     "data": {
      "text/html": [
       "<div>\n",
       "<style scoped>\n",
       "    .dataframe tbody tr th:only-of-type {\n",
       "        vertical-align: middle;\n",
       "    }\n",
       "\n",
       "    .dataframe tbody tr th {\n",
       "        vertical-align: top;\n",
       "    }\n",
       "\n",
       "    .dataframe thead th {\n",
       "        text-align: right;\n",
       "    }\n",
       "</style>\n",
       "<table border=\"1\" class=\"dataframe\">\n",
       "  <thead>\n",
       "    <tr style=\"text-align: right;\">\n",
       "      <th></th>\n",
       "      <th>Hours_Studied</th>\n",
       "      <th>Attendance</th>\n",
       "      <th>Sleep_Hours</th>\n",
       "      <th>Previous_Scores</th>\n",
       "      <th>Tutoring_Sessions</th>\n",
       "      <th>Physical_Activity</th>\n",
       "      <th>Exam_Score</th>\n",
       "    </tr>\n",
       "  </thead>\n",
       "  <tbody>\n",
       "    <tr>\n",
       "      <th>count</th>\n",
       "      <td>6607.000000</td>\n",
       "      <td>6607.000000</td>\n",
       "      <td>6607.00000</td>\n",
       "      <td>6607.000000</td>\n",
       "      <td>6607.000000</td>\n",
       "      <td>6607.000000</td>\n",
       "      <td>6607.000000</td>\n",
       "    </tr>\n",
       "    <tr>\n",
       "      <th>mean</th>\n",
       "      <td>19.975329</td>\n",
       "      <td>79.977448</td>\n",
       "      <td>7.02906</td>\n",
       "      <td>75.070531</td>\n",
       "      <td>1.493719</td>\n",
       "      <td>2.967610</td>\n",
       "      <td>67.235659</td>\n",
       "    </tr>\n",
       "    <tr>\n",
       "      <th>std</th>\n",
       "      <td>5.990594</td>\n",
       "      <td>11.547475</td>\n",
       "      <td>1.46812</td>\n",
       "      <td>14.399784</td>\n",
       "      <td>1.230570</td>\n",
       "      <td>1.031231</td>\n",
       "      <td>3.890456</td>\n",
       "    </tr>\n",
       "    <tr>\n",
       "      <th>min</th>\n",
       "      <td>1.000000</td>\n",
       "      <td>60.000000</td>\n",
       "      <td>4.00000</td>\n",
       "      <td>50.000000</td>\n",
       "      <td>0.000000</td>\n",
       "      <td>0.000000</td>\n",
       "      <td>55.000000</td>\n",
       "    </tr>\n",
       "    <tr>\n",
       "      <th>25%</th>\n",
       "      <td>16.000000</td>\n",
       "      <td>70.000000</td>\n",
       "      <td>6.00000</td>\n",
       "      <td>63.000000</td>\n",
       "      <td>1.000000</td>\n",
       "      <td>2.000000</td>\n",
       "      <td>65.000000</td>\n",
       "    </tr>\n",
       "    <tr>\n",
       "      <th>50%</th>\n",
       "      <td>20.000000</td>\n",
       "      <td>80.000000</td>\n",
       "      <td>7.00000</td>\n",
       "      <td>75.000000</td>\n",
       "      <td>1.000000</td>\n",
       "      <td>3.000000</td>\n",
       "      <td>67.000000</td>\n",
       "    </tr>\n",
       "    <tr>\n",
       "      <th>75%</th>\n",
       "      <td>24.000000</td>\n",
       "      <td>90.000000</td>\n",
       "      <td>8.00000</td>\n",
       "      <td>88.000000</td>\n",
       "      <td>2.000000</td>\n",
       "      <td>4.000000</td>\n",
       "      <td>69.000000</td>\n",
       "    </tr>\n",
       "    <tr>\n",
       "      <th>max</th>\n",
       "      <td>44.000000</td>\n",
       "      <td>100.000000</td>\n",
       "      <td>10.00000</td>\n",
       "      <td>100.000000</td>\n",
       "      <td>8.000000</td>\n",
       "      <td>6.000000</td>\n",
       "      <td>101.000000</td>\n",
       "    </tr>\n",
       "  </tbody>\n",
       "</table>\n",
       "</div>"
      ],
      "text/plain": [
       "       Hours_Studied   Attendance  Sleep_Hours  Previous_Scores  \\\n",
       "count    6607.000000  6607.000000   6607.00000      6607.000000   \n",
       "mean       19.975329    79.977448      7.02906        75.070531   \n",
       "std         5.990594    11.547475      1.46812        14.399784   \n",
       "min         1.000000    60.000000      4.00000        50.000000   \n",
       "25%        16.000000    70.000000      6.00000        63.000000   \n",
       "50%        20.000000    80.000000      7.00000        75.000000   \n",
       "75%        24.000000    90.000000      8.00000        88.000000   \n",
       "max        44.000000   100.000000     10.00000       100.000000   \n",
       "\n",
       "       Tutoring_Sessions  Physical_Activity   Exam_Score  \n",
       "count        6607.000000        6607.000000  6607.000000  \n",
       "mean            1.493719           2.967610    67.235659  \n",
       "std             1.230570           1.031231     3.890456  \n",
       "min             0.000000           0.000000    55.000000  \n",
       "25%             1.000000           2.000000    65.000000  \n",
       "50%             1.000000           3.000000    67.000000  \n",
       "75%             2.000000           4.000000    69.000000  \n",
       "max             8.000000           6.000000   101.000000  "
      ]
     },
     "execution_count": 331,
     "metadata": {},
     "output_type": "execute_result"
    }
   ],
   "source": [
    "df.describe()"
   ]
  },
  {
   "cell_type": "code",
   "execution_count": 333,
   "metadata": {},
   "outputs": [
    {
     "name": "stdout",
     "output_type": "stream",
     "text": [
      "<class 'pandas.core.frame.DataFrame'>\n",
      "RangeIndex: 6607 entries, 0 to 6606\n",
      "Data columns (total 20 columns):\n",
      " #   Column                      Non-Null Count  Dtype \n",
      "---  ------                      --------------  ----- \n",
      " 0   Hours_Studied               6607 non-null   int64 \n",
      " 1   Attendance                  6607 non-null   int64 \n",
      " 2   Parental_Involvement        6607 non-null   object\n",
      " 3   Access_to_Resources         6607 non-null   object\n",
      " 4   Extracurricular_Activities  6607 non-null   object\n",
      " 5   Sleep_Hours                 6607 non-null   int64 \n",
      " 6   Previous_Scores             6607 non-null   int64 \n",
      " 7   Motivation_Level            6607 non-null   object\n",
      " 8   Internet_Access             6607 non-null   object\n",
      " 9   Tutoring_Sessions           6607 non-null   int64 \n",
      " 10  Family_Income               6607 non-null   object\n",
      " 11  Teacher_Quality             6529 non-null   object\n",
      " 12  School_Type                 6607 non-null   object\n",
      " 13  Peer_Influence              6607 non-null   object\n",
      " 14  Physical_Activity           6607 non-null   int64 \n",
      " 15  Learning_Disabilities       6607 non-null   object\n",
      " 16  Parental_Education_Level    6517 non-null   object\n",
      " 17  Distance_from_Home          6540 non-null   object\n",
      " 18  Gender                      6607 non-null   object\n",
      " 19  Exam_Score                  6607 non-null   int64 \n",
      "dtypes: int64(7), object(13)\n",
      "memory usage: 1.0+ MB\n"
     ]
    }
   ],
   "source": [
    "df.info()"
   ]
  },
  {
   "cell_type": "code",
   "execution_count": 335,
   "metadata": {},
   "outputs": [
    {
     "data": {
      "text/plain": [
       "Hours_Studied                  0\n",
       "Attendance                     0\n",
       "Parental_Involvement           0\n",
       "Access_to_Resources            0\n",
       "Extracurricular_Activities     0\n",
       "Sleep_Hours                    0\n",
       "Previous_Scores                0\n",
       "Motivation_Level               0\n",
       "Internet_Access                0\n",
       "Tutoring_Sessions              0\n",
       "Family_Income                  0\n",
       "Teacher_Quality               78\n",
       "School_Type                    0\n",
       "Peer_Influence                 0\n",
       "Physical_Activity              0\n",
       "Learning_Disabilities          0\n",
       "Parental_Education_Level      90\n",
       "Distance_from_Home            67\n",
       "Gender                         0\n",
       "Exam_Score                     0\n",
       "dtype: int64"
      ]
     },
     "execution_count": 335,
     "metadata": {},
     "output_type": "execute_result"
    }
   ],
   "source": [
    "df.isna().sum()"
   ]
  },
  {
   "cell_type": "markdown",
   "metadata": {},
   "source": [
    "1. (20 points) Research Question & Hypotheses + Data Description \n",
    "Points are awarded based on clarity and brevity"
   ]
  },
  {
   "cell_type": "markdown",
   "metadata": {},
   "source": [
    "~~a. Formulate a Central Research Question: Your project should revolve around a\n",
    "central research question/theme (e.g., “What factors influence employee retention?”\n",
    "“How can we reduce customer churn?”) Points awarded on clarity and relevance.~~"
   ]
  },
  {
   "cell_type": "markdown",
   "metadata": {},
   "source": [
    "## 1. <a id='toc1_'></a>[Central Research Question: <b> Which factors are most correlated with student performance?](#toc0_)"
   ]
  },
  {
   "cell_type": "markdown",
   "metadata": {},
   "source": [
    "~~b. Hypothesis Development: Develop 3 hypotheses that you aim to test using the\n",
    "data. Each hypothesis should be logically connected to the research question for the\n",
    "above questions.~~"
   ]
  },
  {
   "cell_type": "markdown",
   "metadata": {},
   "source": [
    "### 1.1. <a id='toc1_1_'></a>[Hypothesis 1: **There is a positive correlation between study hours and attendance record. Moreover, both are positively associated with exam performance.**](#toc0_)"
   ]
  },
  {
   "cell_type": "markdown",
   "metadata": {},
   "source": [
    "### 1.2. <a id='toc1_2_'></a>[Hypothesis 2: **Lower motivation levels are associated with lower exam scores, and vice versa, higher motivation levels are positively associated with higher exam scores.**](#toc0_)"
   ]
  },
  {
   "cell_type": "markdown",
   "metadata": {},
   "source": [
    "### 1.3. <a id='toc1_3_'></a>[Hypothesis 3: **High parental involvement and positive peer influence positively impact student performance in exams.**](#toc0_)"
   ]
  },
  {
   "cell_type": "markdown",
   "metadata": {},
   "source": [
    "~~c. Explain your dataset(s): What is the dataset about? What are the variables of\n",
    "interest? Provide a data dictionary to define each variable’s meaning.~~"
   ]
  },
  {
   "cell_type": "markdown",
   "metadata": {},
   "source": [
    "~~d. Define the unit of analysis: Clarify the unit of analysis in your dataset (what does\n",
    "each observation represent)? You may need to do this repeatedly if you transform\n",
    "your data.~~"
   ]
  },
  {
   "cell_type": "markdown",
   "metadata": {},
   "source": []
  },
  {
   "cell_type": "markdown",
   "metadata": {},
   "source": [
    "## 2. <a id='toc2_'></a>[Data Preparation](#toc0_)"
   ]
  },
  {
   "cell_type": "markdown",
   "metadata": {},
   "source": [
    "~~2. (20 pts.) Data Preparation.~~\n",
    "\n",
    "~~a. Report all code related to cleaning and preparing the data. This may include creating\n",
    "new columns, cleaning existing ones, handling missing data and/or filtering data.\n",
    "Your data preparation should be performed directly in the notebook.~~\n",
    "\n",
    "~~Points are awarded based on clarity, brevity, and showing that you can use the\n",
    "techniques learned in class~~\n"
   ]
  },
  {
   "cell_type": "code",
   "execution_count": 349,
   "metadata": {},
   "outputs": [],
   "source": [
    "# copy original DataFrame to avoid any changes to the original DataFrame \n",
    "df2 = df.copy()"
   ]
  },
  {
   "cell_type": "code",
   "execution_count": 351,
   "metadata": {},
   "outputs": [],
   "source": [
    "# drop unnecessary columns\n",
    "df2.drop(columns = ['Access_to_Resources', 'Previous_Scores', 'Internet_Access', 'Teacher_Quality', 'Parental_Education_Level', 'Tutoring_Sessions', 'School_Type', 'Physical_Activity', 'Learning_Disabilities', 'Distance_from_Home'], inplace = True)"
   ]
  },
  {
   "cell_type": "code",
   "execution_count": 353,
   "metadata": {},
   "outputs": [],
   "source": [
    "# one hot encoding\n",
    "columns_to_apply_func = ['Motivation_Level', 'Family_Income', 'Peer_Influence', 'Parental_Involvement']\n",
    "\n",
    "def f(x):\n",
    "    if (x == \"Low\") | (x == \"Negative\"):\n",
    "        return 0\n",
    "    elif (x == 'Medium') | (x == \"Neutral\"):\n",
    "        return 0.5\n",
    "    elif (x == 'High') | (x == \"Positive\"):\n",
    "        return 1\n",
    "\n",
    "for col in columns_to_apply_func:\n",
    "    df2[col] = df2[col].apply(f)"
   ]
  },
  {
   "cell_type": "code",
   "execution_count": 355,
   "metadata": {},
   "outputs": [],
   "source": [
    "# label encoding\n",
    "df2['Gender'] = df2['Gender'].map({'Female': 0, 'Male': 1}) "
   ]
  },
  {
   "cell_type": "code",
   "execution_count": 357,
   "metadata": {},
   "outputs": [
    {
     "data": {
      "text/plain": [
       "Hours_Studied                 0\n",
       "Attendance                    0\n",
       "Parental_Involvement          0\n",
       "Extracurricular_Activities    0\n",
       "Sleep_Hours                   0\n",
       "Motivation_Level              0\n",
       "Family_Income                 0\n",
       "Peer_Influence                0\n",
       "Gender                        0\n",
       "Exam_Score                    0\n",
       "dtype: int64"
      ]
     },
     "execution_count": 357,
     "metadata": {},
     "output_type": "execute_result"
    }
   ],
   "source": [
    "# error checking\n",
    "df2.isna().sum()"
   ]
  },
  {
   "cell_type": "markdown",
   "metadata": {},
   "source": [
    "### 2.1. <a id='toc2_1_'></a>[Looking at the Updated DataFrame](#toc0_)"
   ]
  },
  {
   "cell_type": "code",
   "execution_count": 360,
   "metadata": {},
   "outputs": [
    {
     "data": {
      "text/html": [
       "<div>\n",
       "<style scoped>\n",
       "    .dataframe tbody tr th:only-of-type {\n",
       "        vertical-align: middle;\n",
       "    }\n",
       "\n",
       "    .dataframe tbody tr th {\n",
       "        vertical-align: top;\n",
       "    }\n",
       "\n",
       "    .dataframe thead th {\n",
       "        text-align: right;\n",
       "    }\n",
       "</style>\n",
       "<table border=\"1\" class=\"dataframe\">\n",
       "  <thead>\n",
       "    <tr style=\"text-align: right;\">\n",
       "      <th></th>\n",
       "      <th>Hours_Studied</th>\n",
       "      <th>Attendance</th>\n",
       "      <th>Parental_Involvement</th>\n",
       "      <th>Extracurricular_Activities</th>\n",
       "      <th>Sleep_Hours</th>\n",
       "      <th>Motivation_Level</th>\n",
       "      <th>Family_Income</th>\n",
       "      <th>Peer_Influence</th>\n",
       "      <th>Gender</th>\n",
       "      <th>Exam_Score</th>\n",
       "    </tr>\n",
       "  </thead>\n",
       "  <tbody>\n",
       "    <tr>\n",
       "      <th>0</th>\n",
       "      <td>23</td>\n",
       "      <td>84</td>\n",
       "      <td>0.0</td>\n",
       "      <td>No</td>\n",
       "      <td>7</td>\n",
       "      <td>0.0</td>\n",
       "      <td>0.0</td>\n",
       "      <td>1.0</td>\n",
       "      <td>1</td>\n",
       "      <td>67</td>\n",
       "    </tr>\n",
       "    <tr>\n",
       "      <th>1</th>\n",
       "      <td>19</td>\n",
       "      <td>64</td>\n",
       "      <td>0.0</td>\n",
       "      <td>No</td>\n",
       "      <td>8</td>\n",
       "      <td>0.0</td>\n",
       "      <td>0.5</td>\n",
       "      <td>0.0</td>\n",
       "      <td>0</td>\n",
       "      <td>61</td>\n",
       "    </tr>\n",
       "    <tr>\n",
       "      <th>2</th>\n",
       "      <td>24</td>\n",
       "      <td>98</td>\n",
       "      <td>0.5</td>\n",
       "      <td>Yes</td>\n",
       "      <td>7</td>\n",
       "      <td>0.5</td>\n",
       "      <td>0.5</td>\n",
       "      <td>0.5</td>\n",
       "      <td>1</td>\n",
       "      <td>74</td>\n",
       "    </tr>\n",
       "    <tr>\n",
       "      <th>3</th>\n",
       "      <td>29</td>\n",
       "      <td>89</td>\n",
       "      <td>0.0</td>\n",
       "      <td>Yes</td>\n",
       "      <td>8</td>\n",
       "      <td>0.5</td>\n",
       "      <td>0.5</td>\n",
       "      <td>0.0</td>\n",
       "      <td>1</td>\n",
       "      <td>71</td>\n",
       "    </tr>\n",
       "    <tr>\n",
       "      <th>4</th>\n",
       "      <td>19</td>\n",
       "      <td>92</td>\n",
       "      <td>0.5</td>\n",
       "      <td>Yes</td>\n",
       "      <td>6</td>\n",
       "      <td>0.5</td>\n",
       "      <td>0.5</td>\n",
       "      <td>0.5</td>\n",
       "      <td>0</td>\n",
       "      <td>70</td>\n",
       "    </tr>\n",
       "  </tbody>\n",
       "</table>\n",
       "</div>"
      ],
      "text/plain": [
       "   Hours_Studied  Attendance  Parental_Involvement Extracurricular_Activities  \\\n",
       "0             23          84                   0.0                         No   \n",
       "1             19          64                   0.0                         No   \n",
       "2             24          98                   0.5                        Yes   \n",
       "3             29          89                   0.0                        Yes   \n",
       "4             19          92                   0.5                        Yes   \n",
       "\n",
       "   Sleep_Hours  Motivation_Level  Family_Income  Peer_Influence  Gender  \\\n",
       "0            7               0.0            0.0             1.0       1   \n",
       "1            8               0.0            0.5             0.0       0   \n",
       "2            7               0.5            0.5             0.5       1   \n",
       "3            8               0.5            0.5             0.0       1   \n",
       "4            6               0.5            0.5             0.5       0   \n",
       "\n",
       "   Exam_Score  \n",
       "0          67  \n",
       "1          61  \n",
       "2          74  \n",
       "3          71  \n",
       "4          70  "
      ]
     },
     "execution_count": 360,
     "metadata": {},
     "output_type": "execute_result"
    }
   ],
   "source": [
    "df2.head()"
   ]
  },
  {
   "cell_type": "code",
   "execution_count": 362,
   "metadata": {},
   "outputs": [
    {
     "data": {
      "text/html": [
       "<div>\n",
       "<style scoped>\n",
       "    .dataframe tbody tr th:only-of-type {\n",
       "        vertical-align: middle;\n",
       "    }\n",
       "\n",
       "    .dataframe tbody tr th {\n",
       "        vertical-align: top;\n",
       "    }\n",
       "\n",
       "    .dataframe thead th {\n",
       "        text-align: right;\n",
       "    }\n",
       "</style>\n",
       "<table border=\"1\" class=\"dataframe\">\n",
       "  <thead>\n",
       "    <tr style=\"text-align: right;\">\n",
       "      <th></th>\n",
       "      <th>Hours_Studied</th>\n",
       "      <th>Attendance</th>\n",
       "      <th>Parental_Involvement</th>\n",
       "      <th>Sleep_Hours</th>\n",
       "      <th>Motivation_Level</th>\n",
       "      <th>Family_Income</th>\n",
       "      <th>Peer_Influence</th>\n",
       "      <th>Gender</th>\n",
       "      <th>Exam_Score</th>\n",
       "    </tr>\n",
       "  </thead>\n",
       "  <tbody>\n",
       "    <tr>\n",
       "      <th>count</th>\n",
       "      <td>6607.000000</td>\n",
       "      <td>6607.000000</td>\n",
       "      <td>6607.000000</td>\n",
       "      <td>6607.00000</td>\n",
       "      <td>6607.000000</td>\n",
       "      <td>6607.000000</td>\n",
       "      <td>6607.000000</td>\n",
       "      <td>6607.000000</td>\n",
       "      <td>6607.000000</td>\n",
       "    </tr>\n",
       "    <tr>\n",
       "      <th>mean</th>\n",
       "      <td>19.975329</td>\n",
       "      <td>79.977448</td>\n",
       "      <td>0.543212</td>\n",
       "      <td>7.02906</td>\n",
       "      <td>0.453231</td>\n",
       "      <td>0.393825</td>\n",
       "      <td>0.595429</td>\n",
       "      <td>0.577267</td>\n",
       "      <td>67.235659</td>\n",
       "    </tr>\n",
       "    <tr>\n",
       "      <th>std</th>\n",
       "      <td>5.990594</td>\n",
       "      <td>11.547475</td>\n",
       "      <td>0.347761</td>\n",
       "      <td>1.46812</td>\n",
       "      <td>0.347899</td>\n",
       "      <td>0.371308</td>\n",
       "      <td>0.377938</td>\n",
       "      <td>0.494031</td>\n",
       "      <td>3.890456</td>\n",
       "    </tr>\n",
       "    <tr>\n",
       "      <th>min</th>\n",
       "      <td>1.000000</td>\n",
       "      <td>60.000000</td>\n",
       "      <td>0.000000</td>\n",
       "      <td>4.00000</td>\n",
       "      <td>0.000000</td>\n",
       "      <td>0.000000</td>\n",
       "      <td>0.000000</td>\n",
       "      <td>0.000000</td>\n",
       "      <td>55.000000</td>\n",
       "    </tr>\n",
       "    <tr>\n",
       "      <th>25%</th>\n",
       "      <td>16.000000</td>\n",
       "      <td>70.000000</td>\n",
       "      <td>0.500000</td>\n",
       "      <td>6.00000</td>\n",
       "      <td>0.000000</td>\n",
       "      <td>0.000000</td>\n",
       "      <td>0.500000</td>\n",
       "      <td>0.000000</td>\n",
       "      <td>65.000000</td>\n",
       "    </tr>\n",
       "    <tr>\n",
       "      <th>50%</th>\n",
       "      <td>20.000000</td>\n",
       "      <td>80.000000</td>\n",
       "      <td>0.500000</td>\n",
       "      <td>7.00000</td>\n",
       "      <td>0.500000</td>\n",
       "      <td>0.500000</td>\n",
       "      <td>0.500000</td>\n",
       "      <td>1.000000</td>\n",
       "      <td>67.000000</td>\n",
       "    </tr>\n",
       "    <tr>\n",
       "      <th>75%</th>\n",
       "      <td>24.000000</td>\n",
       "      <td>90.000000</td>\n",
       "      <td>1.000000</td>\n",
       "      <td>8.00000</td>\n",
       "      <td>0.500000</td>\n",
       "      <td>0.500000</td>\n",
       "      <td>1.000000</td>\n",
       "      <td>1.000000</td>\n",
       "      <td>69.000000</td>\n",
       "    </tr>\n",
       "    <tr>\n",
       "      <th>max</th>\n",
       "      <td>44.000000</td>\n",
       "      <td>100.000000</td>\n",
       "      <td>1.000000</td>\n",
       "      <td>10.00000</td>\n",
       "      <td>1.000000</td>\n",
       "      <td>1.000000</td>\n",
       "      <td>1.000000</td>\n",
       "      <td>1.000000</td>\n",
       "      <td>101.000000</td>\n",
       "    </tr>\n",
       "  </tbody>\n",
       "</table>\n",
       "</div>"
      ],
      "text/plain": [
       "       Hours_Studied   Attendance  Parental_Involvement  Sleep_Hours  \\\n",
       "count    6607.000000  6607.000000           6607.000000   6607.00000   \n",
       "mean       19.975329    79.977448              0.543212      7.02906   \n",
       "std         5.990594    11.547475              0.347761      1.46812   \n",
       "min         1.000000    60.000000              0.000000      4.00000   \n",
       "25%        16.000000    70.000000              0.500000      6.00000   \n",
       "50%        20.000000    80.000000              0.500000      7.00000   \n",
       "75%        24.000000    90.000000              1.000000      8.00000   \n",
       "max        44.000000   100.000000              1.000000     10.00000   \n",
       "\n",
       "       Motivation_Level  Family_Income  Peer_Influence       Gender  \\\n",
       "count       6607.000000    6607.000000     6607.000000  6607.000000   \n",
       "mean           0.453231       0.393825        0.595429     0.577267   \n",
       "std            0.347899       0.371308        0.377938     0.494031   \n",
       "min            0.000000       0.000000        0.000000     0.000000   \n",
       "25%            0.000000       0.000000        0.500000     0.000000   \n",
       "50%            0.500000       0.500000        0.500000     1.000000   \n",
       "75%            0.500000       0.500000        1.000000     1.000000   \n",
       "max            1.000000       1.000000        1.000000     1.000000   \n",
       "\n",
       "        Exam_Score  \n",
       "count  6607.000000  \n",
       "mean     67.235659  \n",
       "std       3.890456  \n",
       "min      55.000000  \n",
       "25%      65.000000  \n",
       "50%      67.000000  \n",
       "75%      69.000000  \n",
       "max     101.000000  "
      ]
     },
     "execution_count": 362,
     "metadata": {},
     "output_type": "execute_result"
    }
   ],
   "source": [
    "df2.describe()"
   ]
  },
  {
   "cell_type": "code",
   "execution_count": 364,
   "metadata": {},
   "outputs": [
    {
     "name": "stdout",
     "output_type": "stream",
     "text": [
      "<class 'pandas.core.frame.DataFrame'>\n",
      "RangeIndex: 6607 entries, 0 to 6606\n",
      "Data columns (total 10 columns):\n",
      " #   Column                      Non-Null Count  Dtype  \n",
      "---  ------                      --------------  -----  \n",
      " 0   Hours_Studied               6607 non-null   int64  \n",
      " 1   Attendance                  6607 non-null   int64  \n",
      " 2   Parental_Involvement        6607 non-null   float64\n",
      " 3   Extracurricular_Activities  6607 non-null   object \n",
      " 4   Sleep_Hours                 6607 non-null   int64  \n",
      " 5   Motivation_Level            6607 non-null   float64\n",
      " 6   Family_Income               6607 non-null   float64\n",
      " 7   Peer_Influence              6607 non-null   float64\n",
      " 8   Gender                      6607 non-null   int64  \n",
      " 9   Exam_Score                  6607 non-null   int64  \n",
      "dtypes: float64(4), int64(5), object(1)\n",
      "memory usage: 516.3+ KB\n"
     ]
    }
   ],
   "source": [
    "df2.info()"
   ]
  },
  {
   "cell_type": "markdown",
   "metadata": {},
   "source": [
    "### 2.2. <a id='toc2_2_'></a>[Data Dictionary](#toc0_)\n",
    "Now that we have cleaned the data, below is a data dictionary describing each of our variables of interest."
   ]
  },
  {
   "cell_type": "code",
   "execution_count": 367,
   "metadata": {},
   "outputs": [
    {
     "data": {
      "text/html": [
       "<div>\n",
       "<style scoped>\n",
       "    .dataframe tbody tr th:only-of-type {\n",
       "        vertical-align: middle;\n",
       "    }\n",
       "\n",
       "    .dataframe tbody tr th {\n",
       "        vertical-align: top;\n",
       "    }\n",
       "\n",
       "    .dataframe thead th {\n",
       "        text-align: right;\n",
       "    }\n",
       "</style>\n",
       "<table border=\"1\" class=\"dataframe\">\n",
       "  <thead>\n",
       "    <tr style=\"text-align: right;\">\n",
       "      <th></th>\n",
       "      <th>Column Name</th>\n",
       "      <th>Data Type</th>\n",
       "      <th>Description</th>\n",
       "    </tr>\n",
       "  </thead>\n",
       "  <tbody>\n",
       "    <tr>\n",
       "      <th>0</th>\n",
       "      <td>Hours_Studied</td>\n",
       "      <td>int64</td>\n",
       "      <td>Number of hours spent studying per week</td>\n",
       "    </tr>\n",
       "    <tr>\n",
       "      <th>1</th>\n",
       "      <td>Attendance</td>\n",
       "      <td>int64</td>\n",
       "      <td>A percentage of classes attended</td>\n",
       "    </tr>\n",
       "    <tr>\n",
       "      <th>2</th>\n",
       "      <td>Parental_Involvement</td>\n",
       "      <td>float64</td>\n",
       "      <td>Categorized by 0, 0.5, 1, with 0 being the low...</td>\n",
       "    </tr>\n",
       "    <tr>\n",
       "      <th>3</th>\n",
       "      <td>Extracurricular_Activities</td>\n",
       "      <td>object</td>\n",
       "      <td>Ascribed with 0 or 1 values to indicate whethe...</td>\n",
       "    </tr>\n",
       "    <tr>\n",
       "      <th>4</th>\n",
       "      <td>Sleep_Hours</td>\n",
       "      <td>int64</td>\n",
       "      <td>How many hours did the student sleep</td>\n",
       "    </tr>\n",
       "    <tr>\n",
       "      <th>5</th>\n",
       "      <td>Motivation_Level</td>\n",
       "      <td>float64</td>\n",
       "      <td>Categorized by 0, 0.5, 1, with 0 being the low...</td>\n",
       "    </tr>\n",
       "    <tr>\n",
       "      <th>6</th>\n",
       "      <td>Family_Income</td>\n",
       "      <td>float64</td>\n",
       "      <td>Categorized by 0, 0.5, 1, with 0 being the low...</td>\n",
       "    </tr>\n",
       "    <tr>\n",
       "      <th>7</th>\n",
       "      <td>Peer_Influence</td>\n",
       "      <td>float64</td>\n",
       "      <td>Categorized by 0, 0.5, 1, with 0 being positiv...</td>\n",
       "    </tr>\n",
       "    <tr>\n",
       "      <th>8</th>\n",
       "      <td>Gender</td>\n",
       "      <td>int64</td>\n",
       "      <td>Categorized by 0 or 1, with 0 being Female and...</td>\n",
       "    </tr>\n",
       "    <tr>\n",
       "      <th>9</th>\n",
       "      <td>Exam_Score</td>\n",
       "      <td>int64</td>\n",
       "      <td>Continuous variable representing the final exa...</td>\n",
       "    </tr>\n",
       "  </tbody>\n",
       "</table>\n",
       "</div>"
      ],
      "text/plain": [
       "                  Column Name Data Type  \\\n",
       "0               Hours_Studied     int64   \n",
       "1                  Attendance     int64   \n",
       "2        Parental_Involvement   float64   \n",
       "3  Extracurricular_Activities    object   \n",
       "4                 Sleep_Hours     int64   \n",
       "5            Motivation_Level   float64   \n",
       "6               Family_Income   float64   \n",
       "7              Peer_Influence   float64   \n",
       "8                      Gender     int64   \n",
       "9                  Exam_Score     int64   \n",
       "\n",
       "                                         Description  \n",
       "0            Number of hours spent studying per week  \n",
       "1                   A percentage of classes attended  \n",
       "2  Categorized by 0, 0.5, 1, with 0 being the low...  \n",
       "3  Ascribed with 0 or 1 values to indicate whethe...  \n",
       "4               How many hours did the student sleep  \n",
       "5  Categorized by 0, 0.5, 1, with 0 being the low...  \n",
       "6  Categorized by 0, 0.5, 1, with 0 being the low...  \n",
       "7  Categorized by 0, 0.5, 1, with 0 being positiv...  \n",
       "8  Categorized by 0 or 1, with 0 being Female and...  \n",
       "9  Continuous variable representing the final exa...  "
      ]
     },
     "execution_count": 367,
     "metadata": {},
     "output_type": "execute_result"
    }
   ],
   "source": [
    "description_table = pd.DataFrame({\n",
    "    \"Column Name\": df2.columns,\n",
    "    \"Data Type\": df2.dtypes.values\n",
    "})\n",
    "\n",
    "description_table[\"Description\"] = [\n",
    "    'Number of hours spent studying per week',\n",
    "    'A percentage of classes attended',\n",
    "    'Categorized by 0, 0.5, 1, with 0 being the lowest and 1 being the highest concern levels',\n",
    "    'Ascribed with 0 or 1 values to indicate whether a student is involved in extracurriculars',\n",
    "    'How many hours did the student sleep',\n",
    "    'Categorized by 0, 0.5, 1, with 0 being the lowest and 1 being the highest motivation levels',\n",
    "    'Categorized by 0, 0.5, 1, with 0 being the lowest and 1 being the highest family income levels',\n",
    "    'Categorized by 0, 0.5, 1, with 0 being positive and 1 being the negative peer influence representations',\n",
    "    'Categorized by 0 or 1, with 0 being Female and 1 being the Male',\n",
    "    'Continuous variable representing the final exam score'\n",
    "]\n",
    "\n",
    "description_table"
   ]
  },
  {
   "cell_type": "markdown",
   "metadata": {},
   "source": [
    "### 2.3. <a id='toc2_2_'></a>[Linear Regression Functions](#toc0_)\n",
    "Here, we wrote the functions to fit both single and multiple linear regression models."
   ]
  },
  {
   "cell_type": "markdown",
   "metadata": {},
   "source": [
    "#### Single Linear Regression"
   ]
  },
  {
   "cell_type": "code",
   "execution_count": 371,
   "metadata": {},
   "outputs": [],
   "source": [
    "def single_linear_regression(feature, X, y):\n",
    "    X_single = sm.add_constant(X[[feature]])\n",
    "    X_train_single, X_test_single, y_train, y_test = train_test_split(X_single, y, test_size=0.2, random_state=42)\n",
    "    model_single = sm.OLS(y_train, X_train_single).fit()\n",
    "    print(\"Single Linear Regression for\", feature)\n",
    "    print(model_single.summary())\n",
    "    \n",
    "    y_pred_single = model_single.predict(X_test_single)\n",
    "    ss_total = np.sum((y_test - y_test.mean())**2)\n",
    "    ss_residual = np.sum((y_test - y_pred_single)**2)\n",
    "    r_squared = 1 - (ss_residual / ss_total)\n",
    "    print(\"Test R-squared:\", r_squared)\n",
    "    return model_single"
   ]
  },
  {
   "cell_type": "markdown",
   "metadata": {},
   "source": [
    "#### Multiple Linear Regression"
   ]
  },
  {
   "cell_type": "code",
   "execution_count": 374,
   "metadata": {},
   "outputs": [],
   "source": [
    "def multiple_linear_regression(features, X, y):\n",
    "    X_multi = sm.add_constant(X[features])\n",
    "    X_train_multi, X_test_multi, y_train, y_test = train_test_split(X_multi, y, test_size=0.2, random_state=42)\n",
    "    model_multi = sm.OLS(y_train, X_train_multi).fit()\n",
    "    print(\"Multiple Linear Regression for\", features)\n",
    "    print(model_multi.summary())\n",
    "    \n",
    "    y_pred_multi = model_multi.predict(X_test_multi)\n",
    "    ss_total = np.sum((y_test - y_test.mean())**2)\n",
    "    ss_residual = np.sum((y_test - y_pred_multi)**2)\n",
    "    r_squared = 1 - (ss_residual / ss_total)\n",
    "    print(\"Test R-squared:\", r_squared)\n",
    "    return model_multi"
   ]
  },
  {
   "cell_type": "markdown",
   "metadata": {},
   "source": [
    "3̶.̶ ̶(̶6̶0̶ ̶p̶t̶s̶.̶ ̶=̶ ̶2̶0̶ ̶p̶t̶s̶ ̶p̶e̶r̶ ̶f̶i̶n̶d̶i̶n̶g̶)̶ ̶T̶h̶r̶e̶e̶ ̶f̶i̶n̶d̶i̶n̶g̶s̶ ̶r̶e̶l̶e̶v̶a̶n̶t̶ ̶t̶o̶ ̶y̶o̶u̶r̶ ̶r̶e̶s̶e̶a̶r̶c̶h̶ ̶q̶u̶e̶s̶t̶i̶o̶n̶ ̶P̶r̶e̶s̶e̶n̶t̶ ̶t̶h̶r̶e̶e̶ ̶f̶i̶n̶d̶i̶n̶g̶s̶ ̶t̶h̶a̶t̶ ̶h̶e̶l̶p̶ ̶a̶n̶s̶w̶e̶r̶ ̶y̶o̶u̶r̶ ̶r̶e̶s̶e̶a̶r̶c̶h̶ ̶q̶u̶e̶s̶t̶i̶o̶n̶/̶ ̶t̶e̶s̶t̶ ̶y̶o̶u̶r̶ ̶h̶y̶p̶o̶t̶h̶e̶s̶e̶s̶.̶ ̶E̶a̶c̶h̶ ̶f̶i̶n̶d̶i̶n̶g̶ ̶s̶h̶o̶u̶l̶d̶ ̶b̶e̶ ̶n̶o̶n̶t̶r̶i̶v̶i̶a̶l̶.̶ \n",
    "\n",
    "F̶o̶r̶ ̶e̶a̶c̶h̶ ̶f̶i̶n̶d̶i̶n̶g̶:̶\n",
    "\n",
    "a̶.̶ ̶(̶5̶ ̶p̶t̶s̶ ̶p̶e̶r̶ ̶f̶i̶n̶d̶i̶n̶g̶)̶ ̶A̶ ̶b̶r̶i̶e̶f̶ ̶s̶u̶m̶m̶a̶r̶y̶ ̶o̶f̶ ̶t̶h̶e̶ ̶f̶i̶n̶d̶i̶n̶g̶ ̶(̶i̶d̶e̶a̶l̶l̶y̶,̶ ̶o̶n̶l̶y̶ ̶o̶n̶e̶ ̶s̶e̶n̶t̶e̶n̶c̶e̶)̶ ̶a̶d̶d̶r̶e̶s̶s̶e̶d̶ ̶t̶o̶ ̶m̶a̶n̶a̶g̶e̶m̶e̶n̶t̶.̶ ̶P̶o̶i̶n̶t̶s̶ ̶a̶r̶e̶ ̶a̶w̶a̶r̶d̶e̶d̶ ̶b̶a̶s̶e̶d̶ ̶o̶n̶ ̶c̶l̶a̶r̶i̶t̶y̶ ̶a̶n̶d̶ ̶i̶n̶t̶e̶r̶e̶s̶t̶i̶n̶g̶n̶e̶s̶s̶ ̶o̶f̶ ̶t̶h̶e̶ ̶f̶i̶n̶d̶i̶n̶g̶.̶ \n",
    "\n",
    "b̶.̶ ̶(̶1̶0̶ ̶p̶t̶s̶ ̶p̶e̶r̶ ̶f̶i̶n̶d̶i̶n̶g̶)̶ ̶A̶ ̶s̶e̶t̶ ̶o̶f̶ ̶t̶a̶b̶l̶e̶s̶,̶ ̶g̶r̶a̶p̶h̶s̶,̶ ̶a̶n̶d̶/̶o̶r̶ ̶m̶o̶d̶e̶l̶s̶ ̶t̶h̶a̶t̶ ̶s̶u̶p̶p̶o̶r̶t̶ ̶t̶h̶e̶ ̶v̶a̶l̶i̶d̶i̶t̶y̶ ̶o̶f̶ ̶y̶o̶u̶r̶ ̶f̶i̶n̶d̶i̶n̶g̶.̶ ̶Y̶o̶u̶ ̶m̶u̶s̶t̶ ̶i̶n̶c̶l̶u̶d̶e̶ ̶a̶t̶ ̶l̶e̶a̶s̶t̶ ̶o̶n̶e̶ ̶c̶h̶a̶r̶t̶.̶ ̶P̶o̶i̶n̶t̶s̶ ̶a̶r̶e̶ ̶a̶w̶a̶r̶d̶e̶d̶ ̶b̶a̶s̶e̶d̶ ̶o̶n̶ ̶h̶o̶w̶ ̶c̶o̶n̶v̶i̶n̶c̶i̶n̶g̶ ̶y̶o̶u̶r̶ ̶e̶v̶i̶d̶e̶n̶c̶e̶ ̶i̶s̶.̶ \n",
    "\n",
    "c̶.̶ ̶(̶5̶ ̶p̶t̶s̶ ̶p̶e̶r̶ ̶f̶i̶n̶d̶i̶n̶g̶)̶ ̶M̶a̶n̶a̶g̶e̶r̶i̶a̶l̶ ̶i̶n̶s̶i̶g̶h̶t̶s̶:̶ ̶a̶n̶s̶w̶e̶r̶ ̶t̶h̶e̶ ̶“̶S̶o̶ ̶w̶h̶a̶t̶?̶”̶ ̶q̶u̶e̶s̶t̶i̶o̶n̶.̶ ̶T̶h̶a̶t̶ ̶i̶s̶,̶ ̶c̶o̶n̶v̶i̶n̶c̶e̶ ̶t̶h̶e̶ ̶r̶e̶a̶d̶e̶r̶ ̶t̶h̶a̶t̶ ̶y̶o̶u̶r̶ ̶f̶i̶n̶d̶i̶n̶g̶ ̶c̶a̶n̶ ̶b̶e̶ ̶u̶s̶e̶d̶ ̶t̶o̶ ̶i̶m̶p̶r̶o̶v̶e̶ ̶b̶u̶s̶i̶n̶e̶s̶s̶ ̶o̶p̶e̶r̶a̶t̶i̶o̶n̶s̶ ̶a̶n̶d̶ ̶s̶t̶r̶a̶t̶e̶g̶y̶.̶ ̶ ̶P̶o̶i̶n̶t̶s̶ ̶a̶r̶e̶ ̶a̶w̶a̶r̶d̶e̶d̶ ̶b̶a̶s̶e̶d̶ ̶o̶n̶ ̶c̶l̶a̶r̶i̶t̶y̶,̶ ̶b̶r̶e̶v̶i̶t̶y̶,̶ ̶a̶n̶d̶ ̶h̶o̶w̶ ̶a̶c̶t̶i̶o̶n̶a̶b̶l̶e̶ ̶y̶o̶u̶r̶ ̶f̶i̶n̶d̶i̶n̶g̶ ̶i̶s̶.̶"
   ]
  },
  {
   "cell_type": "markdown",
   "metadata": {},
   "source": [
    "## 3. <a id='toc3_'></a>[Findings](#toc0_)"
   ]
  },
  {
   "cell_type": "markdown",
   "metadata": {},
   "source": [
    "### 3.1. <a id='toc3_1_'></a>[Hypothesis 1](#toc0_)\n"
   ]
  },
  {
   "cell_type": "markdown",
   "metadata": {},
   "source": [
    "Both study hours and attendance records have a positive correlation with exam performance."
   ]
  },
  {
   "cell_type": "markdown",
   "metadata": {},
   "source": [
    "### 3.2. <a id='toc3_2_'></a>[Finding 1](#toc0_)"
   ]
  },
  {
   "cell_type": "markdown",
   "metadata": {},
   "source": [
    "#### Single Linear Regression"
   ]
  },
  {
   "cell_type": "code",
   "execution_count": 382,
   "metadata": {},
   "outputs": [
    {
     "name": "stdout",
     "output_type": "stream",
     "text": [
      "Single Linear Regression for Hours_Studied\n",
      "                            OLS Regression Results                            \n",
      "==============================================================================\n",
      "Dep. Variable:             Exam_Score   R-squared:                       0.191\n",
      "Model:                            OLS   Adj. R-squared:                  0.190\n",
      "Method:                 Least Squares   F-statistic:                     1244.\n",
      "Date:                Sat, 07 Dec 2024   Prob (F-statistic):          7.88e-245\n",
      "Time:                        00:55:41   Log-Likelihood:                -14163.\n",
      "No. Observations:                5285   AIC:                         2.833e+04\n",
      "Df Residuals:                    5283   BIC:                         2.834e+04\n",
      "Df Model:                           1                                         \n",
      "Covariance Type:            nonrobust                                         \n",
      "=================================================================================\n",
      "                    coef    std err          t      P>|t|      [0.025      0.975]\n",
      "---------------------------------------------------------------------------------\n",
      "const            67.2175      0.049   1384.628      0.000      67.122      67.313\n",
      "Hours_Studied     1.7112      0.049     35.264      0.000       1.616       1.806\n",
      "==============================================================================\n",
      "Omnibus:                     3158.433   Durbin-Watson:                   1.994\n",
      "Prob(Omnibus):                  0.000   Jarque-Bera (JB):            72158.271\n",
      "Skew:                           2.426   Prob(JB):                         0.00\n",
      "Kurtosis:                      20.440   Cond. No.                         1.00\n",
      "==============================================================================\n",
      "\n",
      "Notes:\n",
      "[1] Standard Errors assume that the covariance matrix of the errors is correctly specified.\n",
      "Test R-squared: 0.23198686745421127\n"
     ]
    },
    {
     "data": {
      "text/plain": [
       "<statsmodels.regression.linear_model.RegressionResultsWrapper at 0x164878710>"
      ]
     },
     "execution_count": 382,
     "metadata": {},
     "output_type": "execute_result"
    },
    {
     "name": "stdout",
     "output_type": "stream",
     "text": [
      "Single Linear Regression for Attendance\n",
      "                            OLS Regression Results                            \n",
      "==============================================================================\n",
      "Dep. Variable:             Exam_Score   R-squared:                       0.335\n",
      "Model:                            OLS   Adj. R-squared:                  0.335\n",
      "Method:                 Least Squares   F-statistic:                     2664.\n",
      "Date:                Sat, 07 Dec 2024   Prob (F-statistic):               0.00\n",
      "Time:                        00:55:42   Log-Likelihood:                -13642.\n",
      "No. Observations:                5285   AIC:                         2.729e+04\n",
      "Df Residuals:                    5283   BIC:                         2.730e+04\n",
      "Df Model:                           1                                         \n",
      "Covariance Type:            nonrobust                                         \n",
      "==============================================================================\n",
      "                 coef    std err          t      P>|t|      [0.025      0.975]\n",
      "------------------------------------------------------------------------------\n",
      "const         67.2356      0.044   1528.263      0.000      67.149      67.322\n",
      "Attendance     2.2764      0.044     51.616      0.000       2.190       2.363\n",
      "==============================================================================\n",
      "Omnibus:                     3897.662   Durbin-Watson:                   1.976\n",
      "Prob(Omnibus):                  0.000   Jarque-Bera (JB):           136998.096\n",
      "Skew:                           3.142   Prob(JB):                         0.00\n",
      "Kurtosis:                      27.138   Cond. No.                         1.01\n",
      "==============================================================================\n",
      "\n",
      "Notes:\n",
      "[1] Standard Errors assume that the covariance matrix of the errors is correctly specified.\n",
      "Test R-squared: 0.3476157579118131\n"
     ]
    },
    {
     "data": {
      "text/plain": [
       "<statsmodels.regression.linear_model.RegressionResultsWrapper at 0x1647ce570>"
      ]
     },
     "execution_count": 382,
     "metadata": {},
     "output_type": "execute_result"
    }
   ],
   "source": [
    "single_linear_regression('Hours_Studied', X_scaled, y)\n",
    "single_linear_regression('Attendance', X_scaled, y)"
   ]
  },
  {
   "cell_type": "markdown",
   "metadata": {},
   "source": [
    "#### Multiple Linear Regression"
   ]
  },
  {
   "cell_type": "code",
   "execution_count": 385,
   "metadata": {},
   "outputs": [
    {
     "name": "stdout",
     "output_type": "stream",
     "text": [
      "Multiple Linear Regression for ['Hours_Studied', 'Attendance']\n",
      "                            OLS Regression Results                            \n",
      "==============================================================================\n",
      "Dep. Variable:             Exam_Score   R-squared:                       0.530\n",
      "Model:                            OLS   Adj. R-squared:                  0.530\n",
      "Method:                 Least Squares   F-statistic:                     2980.\n",
      "Date:                Sat, 07 Dec 2024   Prob (F-statistic):               0.00\n",
      "Time:                        00:55:42   Log-Likelihood:                -12725.\n",
      "No. Observations:                5285   AIC:                         2.546e+04\n",
      "Df Residuals:                    5282   BIC:                         2.548e+04\n",
      "Df Model:                           2                                         \n",
      "Covariance Type:            nonrobust                                         \n",
      "=================================================================================\n",
      "                    coef    std err          t      P>|t|      [0.025      0.975]\n",
      "---------------------------------------------------------------------------------\n",
      "const            67.2381      0.037   1817.708      0.000      67.166      67.311\n",
      "Hours_Studied     1.7307      0.037     46.809      0.000       1.658       1.803\n",
      "Attendance        2.2912      0.037     61.788      0.000       2.219       2.364\n",
      "==============================================================================\n",
      "Omnibus:                     5799.724   Durbin-Watson:                   1.955\n",
      "Prob(Omnibus):                  0.000   Jarque-Bera (JB):           617583.818\n",
      "Skew:                           5.503   Prob(JB):                         0.00\n",
      "Kurtosis:                      54.802   Cond. No.                         1.01\n",
      "==============================================================================\n",
      "\n",
      "Notes:\n",
      "[1] Standard Errors assume that the covariance matrix of the errors is correctly specified.\n",
      "Test R-squared: 0.5890281259514631\n"
     ]
    },
    {
     "data": {
      "text/plain": [
       "<statsmodels.regression.linear_model.RegressionResultsWrapper at 0x164ac3470>"
      ]
     },
     "execution_count": 385,
     "metadata": {},
     "output_type": "execute_result"
    }
   ],
   "source": [
    "multiple_linear_regression(['Hours_Studied', 'Attendance'], X_scaled, y)"
   ]
  },
  {
   "cell_type": "markdown",
   "metadata": {},
   "source": [
    "#### Visualization"
   ]
  },
  {
   "cell_type": "code",
   "execution_count": 388,
   "metadata": {},
   "outputs": [
    {
     "data": {
      "text/plain": [
       "<matplotlib.collections.PathCollection at 0x164b9d2e0>"
      ]
     },
     "execution_count": 388,
     "metadata": {},
     "output_type": "execute_result"
    },
    {
     "data": {
      "text/plain": [
       "Text(0.5, 1.0, 'Hours_Studied vs. Exam_Score')"
      ]
     },
     "execution_count": 388,
     "metadata": {},
     "output_type": "execute_result"
    },
    {
     "data": {
      "text/plain": [
       "Text(0.5, 0, 'Hours_Studied')"
      ]
     },
     "execution_count": 388,
     "metadata": {},
     "output_type": "execute_result"
    },
    {
     "data": {
      "text/plain": [
       "Text(0, 0.5, 'Exam_Score')"
      ]
     },
     "execution_count": 388,
     "metadata": {},
     "output_type": "execute_result"
    },
    {
     "data": {
      "image/png": "[encoded data removed]",
      "text/plain": [
       "<Figure size 640x480 with 1 Axes>"
      ]
     },
     "metadata": {},
     "output_type": "display_data"
    },
    {
     "data": {
      "text/plain": [
       "<matplotlib.collections.PathCollection at 0x1649346b0>"
      ]
     },
     "execution_count": 388,
     "metadata": {},
     "output_type": "execute_result"
    },
    {
     "data": {
      "text/plain": [
       "Text(0.5, 1.0, 'Attendance vs. Exam_Score')"
      ]
     },
     "execution_count": 388,
     "metadata": {},
     "output_type": "execute_result"
    },
    {
     "data": {
      "text/plain": [
       "Text(0.5, 0, 'Attendance')"
      ]
     },
     "execution_count": 388,
     "metadata": {},
     "output_type": "execute_result"
    },
    {
     "data": {
      "text/plain": [
       "Text(0, 0.5, 'Exam_Score')"
      ]
     },
     "execution_count": 388,
     "metadata": {},
     "output_type": "execute_result"
    },
    {
     "data": {
      "image/png": "[encoded data removed]",
      "text/plain": [
       "<Figure size 640x480 with 1 Axes>"
      ]
     },
     "metadata": {},
     "output_type": "display_data"
    }
   ],
   "source": [
    "plt.scatter(df2['Hours_Studied'], df2['Exam_Score'])\n",
    "plt.title('Hours_Studied vs. Exam_Score')\n",
    "plt.xlabel('Hours_Studied')\n",
    "plt.ylabel('Exam_Score')\n",
    "plt.show()\n",
    "\n",
    "plt.scatter(df2['Attendance'], df2['Exam_Score'], color='orange')\n",
    "plt.title('Attendance vs. Exam_Score')\n",
    "plt.xlabel('Attendance')\n",
    "plt.ylabel('Exam_Score')\n",
    "plt.show()"
   ]
  },
  {
   "cell_type": "markdown",
   "metadata": {},
   "source": [
    "#### Description"
   ]
  },
  {
   "cell_type": "markdown",
   "metadata": {},
   "source": [
    "a) Both hours studied and student attendance are positively correlated with exam scores, and when combined, these two features explain 53% of the variance in exam scores (total R-squared 0.53).\n",
    "\n",
    "b) Hours studied and attendance both have positive coefficients (1.7112 and 2.2764 respectively) meaning they are both linearly related to exam scores. They also have p-values < 0.001 which means these features are statistically significant to the resulting exam score.\n",
    "\n",
    "c) These results demonstrate to educators that both attendance and hours studied play a big role in affecting students' exam scores. We propose an incentive system for attendance and extra study sessions to increase the amount of hours studied."
   ]
  },
  {
   "cell_type": "markdown",
   "metadata": {},
   "source": [
    "### 3.3. <a id='toc3_3_'></a>[Hypothesis 2](#toc0_)"
   ]
  },
  {
   "cell_type": "markdown",
   "metadata": {},
   "source": [
    "Lower motivation levels are associated with lower exam scores, and vice versa, higher motivation levels are positively associated with higher exam scores."
   ]
  },
  {
   "cell_type": "markdown",
   "metadata": {},
   "source": [
    "### 3.4. <a id='toc3_4_'></a>[Finding 2](#toc0_)"
   ]
  },
  {
   "cell_type": "markdown",
   "metadata": {},
   "source": [
    "#### Single Linear Regression"
   ]
  },
  {
   "cell_type": "code",
   "execution_count": 396,
   "metadata": {},
   "outputs": [
    {
     "name": "stdout",
     "output_type": "stream",
     "text": [
      "Single Linear Regression for Motivation_Level\n",
      "                            OLS Regression Results                            \n",
      "==============================================================================\n",
      "Dep. Variable:             Exam_Score   R-squared:                       0.006\n",
      "Model:                            OLS   Adj. R-squared:                  0.006\n",
      "Method:                 Least Squares   F-statistic:                     30.60\n",
      "Date:                Sat, 07 Dec 2024   Prob (F-statistic):           3.33e-08\n",
      "Time:                        00:55:43   Log-Likelihood:                -14706.\n",
      "No. Observations:                5285   AIC:                         2.942e+04\n",
      "Df Residuals:                    5283   BIC:                         2.943e+04\n",
      "Df Model:                           1                                         \n",
      "Covariance Type:            nonrobust                                         \n",
      "====================================================================================\n",
      "                       coef    std err          t      P>|t|      [0.025      0.975]\n",
      "------------------------------------------------------------------------------------\n",
      "const               67.2171      0.054   1249.317      0.000      67.112      67.323\n",
      "Motivation_Level     0.2983      0.054      5.531      0.000       0.193       0.404\n",
      "==============================================================================\n",
      "Omnibus:                     2303.831   Durbin-Watson:                   1.984\n",
      "Prob(Omnibus):                  0.000   Jarque-Bera (JB):            29848.718\n",
      "Skew:                           1.729   Prob(JB):                         0.00\n",
      "Kurtosis:                      14.117   Cond. No.                         1.01\n",
      "==============================================================================\n",
      "\n",
      "Notes:\n",
      "[1] Standard Errors assume that the covariance matrix of the errors is correctly specified.\n",
      "Test R-squared: 0.014113766158824093\n"
     ]
    },
    {
     "data": {
      "text/plain": [
       "<statsmodels.regression.linear_model.RegressionResultsWrapper at 0x164a0a270>"
      ]
     },
     "execution_count": 396,
     "metadata": {},
     "output_type": "execute_result"
    }
   ],
   "source": [
    "single_linear_regression('Motivation_Level', X_scaled, y)"
   ]
  },
  {
   "cell_type": "markdown",
   "metadata": {},
   "source": [
    "#### Multiple Linear Regression"
   ]
  },
  {
   "cell_type": "code",
   "execution_count": 399,
   "metadata": {},
   "outputs": [
    {
     "name": "stdout",
     "output_type": "stream",
     "text": [
      "Multiple Linear Regression for ['Motivation_Level']\n",
      "                            OLS Regression Results                            \n",
      "==============================================================================\n",
      "Dep. Variable:             Exam_Score   R-squared:                       0.006\n",
      "Model:                            OLS   Adj. R-squared:                  0.006\n",
      "Method:                 Least Squares   F-statistic:                     30.60\n",
      "Date:                Sat, 07 Dec 2024   Prob (F-statistic):           3.33e-08\n",
      "Time:                        00:55:43   Log-Likelihood:                -14706.\n",
      "No. Observations:                5285   AIC:                         2.942e+04\n",
      "Df Residuals:                    5283   BIC:                         2.943e+04\n",
      "Df Model:                           1                                         \n",
      "Covariance Type:            nonrobust                                         \n",
      "====================================================================================\n",
      "                       coef    std err          t      P>|t|      [0.025      0.975]\n",
      "------------------------------------------------------------------------------------\n",
      "const               67.2171      0.054   1249.317      0.000      67.112      67.323\n",
      "Motivation_Level     0.2983      0.054      5.531      0.000       0.193       0.404\n",
      "==============================================================================\n",
      "Omnibus:                     2303.831   Durbin-Watson:                   1.984\n",
      "Prob(Omnibus):                  0.000   Jarque-Bera (JB):            29848.718\n",
      "Skew:                           1.729   Prob(JB):                         0.00\n",
      "Kurtosis:                      14.117   Cond. No.                         1.01\n",
      "==============================================================================\n",
      "\n",
      "Notes:\n",
      "[1] Standard Errors assume that the covariance matrix of the errors is correctly specified.\n",
      "Test R-squared: 0.014113766158824093\n"
     ]
    },
    {
     "data": {
      "text/plain": [
       "<statsmodels.regression.linear_model.RegressionResultsWrapper at 0x16484ffb0>"
      ]
     },
     "execution_count": 399,
     "metadata": {},
     "output_type": "execute_result"
    }
   ],
   "source": [
    "multiple_linear_regression(['Motivation_Level'], X_scaled, y)"
   ]
  },
  {
   "cell_type": "markdown",
   "metadata": {},
   "source": [
    "#### Visualization"
   ]
  },
  {
   "cell_type": "code",
   "execution_count": 402,
   "metadata": {},
   "outputs": [
    {
     "data": {
      "text/plain": [
       "<Axes: xlabel='Motivation_Level'>"
      ]
     },
     "execution_count": 402,
     "metadata": {},
     "output_type": "execute_result"
    },
    {
     "data": {
      "text/plain": [
       "Text(0.5, 1.0, 'Average Exam_Score by Motivation_Level')"
      ]
     },
     "execution_count": 402,
     "metadata": {},
     "output_type": "execute_result"
    },
    {
     "data": {
      "text/plain": [
       "Text(0.5, 0, 'Motivation_Level')"
      ]
     },
     "execution_count": 402,
     "metadata": {},
     "output_type": "execute_result"
    },
    {
     "data": {
      "text/plain": [
       "Text(0, 0.5, 'Average Exam_Score')"
      ]
     },
     "execution_count": 402,
     "metadata": {},
     "output_type": "execute_result"
    },
    {
     "data": {
      "text/plain": [
       "(array([0, 1, 2]), [Text(0, 0, '0.0'), Text(1, 0, '0.5'), Text(2, 0, '1.0')])"
      ]
     },
     "execution_count": 402,
     "metadata": {},
     "output_type": "execute_result"
    },
    {
     "data": {
      "image/png": "[encoded data removed]",
      "text/plain": [
       "<Figure size 640x480 with 1 Axes>"
      ]
     },
     "metadata": {},
     "output_type": "display_data"
    }
   ],
   "source": [
    "df2.groupby('Motivation_Level')['Exam_Score'].mean().plot(kind='bar', color='green')\n",
    "plt.title('Average Exam_Score by Motivation_Level')\n",
    "plt.xlabel('Motivation_Level')\n",
    "plt.ylabel('Average Exam_Score')\n",
    "plt.xticks(rotation=0)\n",
    "plt.show()"
   ]
  },
  {
   "cell_type": "markdown",
   "metadata": {},
   "source": [
    "#### Description"
   ]
  },
  {
   "cell_type": "markdown",
   "metadata": {},
   "source": [
    "a) Motivation level has an R-squared value of 0.006 signifying a weak positive correlation with exam scores.\n",
    "\n",
    "b) Motivation level has a positive coefficient of 0.298 which means that the feature is linearly related to exam scores. As such, this also means that a decrease in motivation levels will lead to a decrease in student performance. It also has a p-value < 0.001 meaning that it is statistically significant, however, the overall relationship between motivation level and student exam scores is weak.\n",
    "\n",
    "c) Due to motivation level being a weak predictor of students' exam performance, we suggest that educators focus more on impactful factors such as attendance and study habits. However, to not completely disregard the positive relationship, motivation can still be leveraged through creating more engaging lectures and teaching students about topics in a way that is relevant to their lives."
   ]
  },
  {
   "cell_type": "markdown",
   "metadata": {},
   "source": [
    "### 3.5. <a id='toc3_5_'></a>[Hypothesis 3](#toc0_)"
   ]
  },
  {
   "cell_type": "markdown",
   "metadata": {},
   "source": [
    "High parental involvement and positive peer influence positively impact student performance in exams."
   ]
  },
  {
   "cell_type": "markdown",
   "metadata": {},
   "source": [
    "### 3.6. <a id='toc3_6_'></a>[Finding 3](#toc0_)"
   ]
  },
  {
   "cell_type": "markdown",
   "metadata": {},
   "source": [
    "#### Single Linear Regression"
   ]
  },
  {
   "cell_type": "code",
   "execution_count": 410,
   "metadata": {},
   "outputs": [
    {
     "name": "stdout",
     "output_type": "stream",
     "text": [
      "Single Linear Regression for Parental_Involvement\n",
      "                            OLS Regression Results                            \n",
      "==============================================================================\n",
      "Dep. Variable:             Exam_Score   R-squared:                       0.024\n",
      "Model:                            OLS   Adj. R-squared:                  0.024\n",
      "Method:                 Least Squares   F-statistic:                     129.5\n",
      "Date:                Sat, 07 Dec 2024   Prob (F-statistic):           1.18e-29\n",
      "Time:                        00:55:45   Log-Likelihood:                -14657.\n",
      "No. Observations:                5285   AIC:                         2.932e+04\n",
      "Df Residuals:                    5283   BIC:                         2.933e+04\n",
      "Df Model:                           1                                         \n",
      "Covariance Type:            nonrobust                                         \n",
      "========================================================================================\n",
      "                           coef    std err          t      P>|t|      [0.025      0.975]\n",
      "----------------------------------------------------------------------------------------\n",
      "const                   67.2158      0.053   1260.890      0.000      67.111      67.320\n",
      "Parental_Involvement     0.6066      0.053     11.379      0.000       0.502       0.711\n",
      "==============================================================================\n",
      "Omnibus:                     2347.261   Durbin-Watson:                   1.987\n",
      "Prob(Omnibus):                  0.000   Jarque-Bera (JB):            31223.164\n",
      "Skew:                           1.763   Prob(JB):                         0.00\n",
      "Kurtosis:                      14.373   Cond. No.                         1.00\n",
      "==============================================================================\n",
      "\n",
      "Notes:\n",
      "[1] Standard Errors assume that the covariance matrix of the errors is correctly specified.\n",
      "Test R-squared: 0.02727153834656526\n"
     ]
    },
    {
     "data": {
      "text/plain": [
       "<statsmodels.regression.linear_model.RegressionResultsWrapper at 0x16478b500>"
      ]
     },
     "execution_count": 410,
     "metadata": {},
     "output_type": "execute_result"
    },
    {
     "name": "stdout",
     "output_type": "stream",
     "text": [
      "Single Linear Regression for Peer_Influence\n",
      "                            OLS Regression Results                            \n",
      "==============================================================================\n",
      "Dep. Variable:             Exam_Score   R-squared:                       0.009\n",
      "Model:                            OLS   Adj. R-squared:                  0.009\n",
      "Method:                 Least Squares   F-statistic:                     49.54\n",
      "Date:                Sat, 07 Dec 2024   Prob (F-statistic):           2.19e-12\n",
      "Time:                        00:55:45   Log-Likelihood:                -14697.\n",
      "No. Observations:                5285   AIC:                         2.940e+04\n",
      "Df Residuals:                    5283   BIC:                         2.941e+04\n",
      "Df Model:                           1                                         \n",
      "Covariance Type:            nonrobust                                         \n",
      "==================================================================================\n",
      "                     coef    std err          t      P>|t|      [0.025      0.975]\n",
      "----------------------------------------------------------------------------------\n",
      "const             67.2116      0.054   1251.414      0.000      67.106      67.317\n",
      "Peer_Influence     0.3760      0.053      7.039      0.000       0.271       0.481\n",
      "==============================================================================\n",
      "Omnibus:                     2301.751   Durbin-Watson:                   1.976\n",
      "Prob(Omnibus):                  0.000   Jarque-Bera (JB):            29818.298\n",
      "Skew:                           1.727   Prob(JB):                         0.00\n",
      "Kurtosis:                      14.112   Cond. No.                         1.01\n",
      "==============================================================================\n",
      "\n",
      "Notes:\n",
      "[1] Standard Errors assume that the covariance matrix of the errors is correctly specified.\n",
      "Test R-squared: 0.01245565220475553\n"
     ]
    },
    {
     "data": {
      "text/plain": [
       "<statsmodels.regression.linear_model.RegressionResultsWrapper at 0x164ad1610>"
      ]
     },
     "execution_count": 410,
     "metadata": {},
     "output_type": "execute_result"
    }
   ],
   "source": [
    "single_linear_regression('Parental_Involvement', X_scaled, y)\n",
    "single_linear_regression('Peer_Influence', X_scaled, y)"
   ]
  },
  {
   "cell_type": "markdown",
   "metadata": {},
   "source": [
    "#### Multiple Linear Regression"
   ]
  },
  {
   "cell_type": "code",
   "execution_count": 413,
   "metadata": {},
   "outputs": [
    {
     "name": "stdout",
     "output_type": "stream",
     "text": [
      "Multiple Linear Regression for ['Parental_Involvement', 'Peer_Influence']\n",
      "                            OLS Regression Results                            \n",
      "==============================================================================\n",
      "Dep. Variable:             Exam_Score   R-squared:                       0.033\n",
      "Model:                            OLS   Adj. R-squared:                  0.032\n",
      "Method:                 Least Squares   F-statistic:                     88.78\n",
      "Date:                Sat, 07 Dec 2024   Prob (F-statistic):           1.19e-38\n",
      "Time:                        00:55:45   Log-Likelihood:                -14634.\n",
      "No. Observations:                5285   AIC:                         2.927e+04\n",
      "Df Residuals:                    5282   BIC:                         2.929e+04\n",
      "Df Model:                           2                                         \n",
      "Covariance Type:            nonrobust                                         \n",
      "========================================================================================\n",
      "                           coef    std err          t      P>|t|      [0.025      0.975]\n",
      "----------------------------------------------------------------------------------------\n",
      "const                   67.2124      0.053   1266.244      0.000      67.108      67.316\n",
      "Parental_Involvement     0.5980      0.053     11.262      0.000       0.494       0.702\n",
      "Peer_Influence           0.3619      0.053      6.853      0.000       0.258       0.465\n",
      "==============================================================================\n",
      "Omnibus:                     2369.114   Durbin-Watson:                   1.982\n",
      "Prob(Omnibus):                  0.000   Jarque-Bera (JB):            32172.580\n",
      "Skew:                           1.778   Prob(JB):                         0.00\n",
      "Kurtosis:                      14.552   Cond. No.                         1.03\n",
      "==============================================================================\n",
      "\n",
      "Notes:\n",
      "[1] Standard Errors assume that the covariance matrix of the errors is correctly specified.\n",
      "Test R-squared: 0.03995173145981956\n"
     ]
    },
    {
     "data": {
      "text/plain": [
       "<statsmodels.regression.linear_model.RegressionResultsWrapper at 0x16459ddc0>"
      ]
     },
     "execution_count": 413,
     "metadata": {},
     "output_type": "execute_result"
    }
   ],
   "source": [
    "multiple_linear_regression(['Parental_Involvement', 'Peer_Influence'], X_scaled, y)"
   ]
  },
  {
   "cell_type": "markdown",
   "metadata": {},
   "source": [
    "#### Visualization"
   ]
  },
  {
   "cell_type": "code",
   "execution_count": 416,
   "metadata": {},
   "outputs": [
    {
     "data": {
      "text/plain": [
       "<Axes: xlabel='Parental_Involvement'>"
      ]
     },
     "execution_count": 416,
     "metadata": {},
     "output_type": "execute_result"
    },
    {
     "data": {
      "text/plain": [
       "Text(0.5, 1.0, 'Average Exam_Score by Parental_Involvement')"
      ]
     },
     "execution_count": 416,
     "metadata": {},
     "output_type": "execute_result"
    },
    {
     "data": {
      "text/plain": [
       "Text(0.5, 0, 'Parental_Involvement')"
      ]
     },
     "execution_count": 416,
     "metadata": {},
     "output_type": "execute_result"
    },
    {
     "data": {
      "text/plain": [
       "Text(0, 0.5, 'Average Exam_Score')"
      ]
     },
     "execution_count": 416,
     "metadata": {},
     "output_type": "execute_result"
    },
    {
     "data": {
      "text/plain": [
       "(array([0, 1, 2]), [Text(0, 0, '0.0'), Text(1, 0, '0.5'), Text(2, 0, '1.0')])"
      ]
     },
     "execution_count": 416,
     "metadata": {},
     "output_type": "execute_result"
    },
    {
     "data": {
      "image/png": "[encoded data removed]",
      "text/plain": [
       "<Figure size 640x480 with 1 Axes>"
      ]
     },
     "metadata": {},
     "output_type": "display_data"
    },
    {
     "data": {
      "text/plain": [
       "<Axes: xlabel='Peer_Influence'>"
      ]
     },
     "execution_count": 416,
     "metadata": {},
     "output_type": "execute_result"
    },
    {
     "data": {
      "text/plain": [
       "Text(0.5, 1.0, 'Average Exam_Score by Peer_Influence')"
      ]
     },
     "execution_count": 416,
     "metadata": {},
     "output_type": "execute_result"
    },
    {
     "data": {
      "text/plain": [
       "Text(0.5, 0, 'Peer_Influence')"
      ]
     },
     "execution_count": 416,
     "metadata": {},
     "output_type": "execute_result"
    },
    {
     "data": {
      "text/plain": [
       "Text(0, 0.5, 'Average Exam_Score')"
      ]
     },
     "execution_count": 416,
     "metadata": {},
     "output_type": "execute_result"
    },
    {
     "data": {
      "text/plain": [
       "(array([0, 1, 2]), [Text(0, 0, '0.0'), Text(1, 0, '0.5'), Text(2, 0, '1.0')])"
      ]
     },
     "execution_count": 416,
     "metadata": {},
     "output_type": "execute_result"
    },
    {
     "data": {
      "image/png": "[encoded data removed]",
      "text/plain": [
       "<Figure size 640x480 with 1 Axes>"
      ]
     },
     "metadata": {},
     "output_type": "display_data"
    }
   ],
   "source": [
    "df2.groupby('Parental_Involvement')['Exam_Score'].mean().plot(kind='bar', color='blue')\n",
    "plt.title('Average Exam_Score by Parental_Involvement')\n",
    "plt.xlabel('Parental_Involvement')\n",
    "plt.ylabel('Average Exam_Score')\n",
    "plt.xticks(rotation=0)\n",
    "plt.show()\n",
    "\n",
    "df2.groupby('Peer_Influence')['Exam_Score'].mean().plot(kind='bar', color='purple')\n",
    "plt.title('Average Exam_Score by Peer_Influence')\n",
    "plt.xlabel('Peer_Influence')\n",
    "plt.ylabel('Average Exam_Score')\n",
    "plt.xticks(rotation=0)\n",
    "plt.show()"
   ]
  },
  {
   "cell_type": "markdown",
   "metadata": {},
   "source": [
    "#### Description"
   ]
  },
  {
   "cell_type": "markdown",
   "metadata": {},
   "source": [
    "a) Parental involvement and peer influence are both positively associated with exam scores, and these two features explain roughly 3.3% of the variance in exam performance (total R-squared 0.033).\n",
    "\n",
    "b) Although this relationship is weaker than that of attendance and hours studied, these two features are stronger predictors than exam performance, thus, high parental involvement and positive peer influence can positively impact student performance in exams. Both of these features have a p-value < 0.001 meaning that they are statistically significant. In addition, they have coefficients of 0.6066 and 0.3760) respectively. Since both coefficients are positive, this suggests a linear relationship between parental involvement vs. exam scores and peer influence vs. exam scores.\n",
    "\n",
    "c) We propose educators set up quarterly parent-teacher conference meetings to discuss the importance of parents being involved in their students' lives. In addition, fostering a welcoming and respectful environment, and organizing peer mentorship programs is a great way to boost peer influence."
   ]
  },
  {
   "cell_type": "markdown",
   "metadata": {},
   "source": [
    "4. (10 pts) Presentation and Readability\n",
    "\n",
    "a. Ensure the Jupyter Notebook is well-organized, with appropriate headings, clear\n",
    "explanations, and attention to detail.\n",
    "\n",
    "b. Formatting and Layout: Use clean formatting and provide sufficient explanations to\n",
    "make your work easy to follow"
   ]
  }
 ],
 "metadata": {
  "kernelspec": {
   "display_name": "Python 3 (ipykernel)",
   "language": "python",
   "name": "python3"
  },
  "language_info": {
   "codemirror_mode": {
    "name": "ipython",
    "version": 3
   },
   "file_extension": ".py",
   "mimetype": "text/x-python",
   "name": "python",
   "nbconvert_exporter": "python",
   "pygments_lexer": "ipython3",
   "version": "3.12.2"
  }
 },
 "nbformat": 4,
 "nbformat_minor": 4
}
