{
 "cells": [
  {
   "cell_type": "markdown",
   "metadata": {},
   "source": [
    "1. (20 points) Research Question & Hypotheses + Data Description \n",
    "Points are awarded based on clarity and brevity"
   ]
  },
  {
   "cell_type": "markdown",
   "metadata": {},
   "source": [
    "a. Formulate a Central Research Question: Your project should revolve around a\n",
    "central research question/theme (e.g., “What factors influence employee retention?”\n",
    "“How can we reduce customer churn?”) Points awarded on clarity and relevance."
   ]
  },
  {
   "cell_type": "markdown",
   "metadata": {},
   "source": [
    "## Central Research Question: <b> Which factors are most correlated with student performance? "
   ]
  },
  {
   "cell_type": "markdown",
   "metadata": {},
   "source": [
    "b. Hypothesis Development: Develop 3 hypotheses that you aim to test using the\n",
    "data. Each hypothesis should be logically connected to the research question for the\n",
    "above questions."
   ]
  },
  {
   "cell_type": "markdown",
   "metadata": {},
   "source": []
  },
  {
   "cell_type": "markdown",
   "metadata": {},
   "source": [
    "c. Explain your dataset(s): What is the dataset about? What are the variables of\n",
    "interest? Provide a data dictionary to define each variable’s meaning."
   ]
  },
  {
   "cell_type": "markdown",
   "metadata": {},
   "source": []
  },
  {
   "cell_type": "markdown",
   "metadata": {},
   "source": [
    "d. Define the unit of analysis: Clarify the unit of analysis in your dataset (what does\n",
    "each observation represent)? You may need to do this repeatedly if you transform\n",
    "your data."
   ]
  },
  {
   "cell_type": "markdown",
   "metadata": {},
   "source": []
  },
  {
   "cell_type": "markdown",
   "metadata": {},
   "source": [
    "2. (20 pts.) Data Preparation.\n",
    "\n",
    "a. Report all code related to cleaning and preparing the data. This may include creating\n",
    "new columns, cleaning existing ones, handling missing data and/or filtering data.\n",
    "Your data preparation should be performed directly in the notebook.\n",
    "\n",
    "Points are awarded based on clarity, brevity, and showing that you can use the\n",
    "techniques learned in class\n"
   ]
  },
  {
   "cell_type": "code",
   "execution_count": null,
   "metadata": {
    "vscode": {
     "languageId": "plaintext"
    }
   },
   "outputs": [],
   "source": []
  },
  {
   "cell_type": "markdown",
   "metadata": {},
   "source": [
    "3. (60 pts. = 20 pts per finding) Three findings relevant to your research question\n",
    "Present three findings that help answer your research question/ test your\n",
    "hypotheses. Each finding should be nontrivial.\n",
    "\n",
    "For each finding:\n",
    "\n",
    "a. (5 pts per finding) A brief summary of the finding (ideally, only one sentence)\n",
    "addressed to management. Points are awarded based on clarity and interestingness\n",
    "of the finding.\n",
    "\n",
    "b. (10 pts per finding) A set of tables, graphs, and/or models that support the\n",
    "validity of your finding. You must include at least one chart. Points are awarded\n",
    "based on how convincing your evidence is.\n",
    "\n",
    "c. (5 pts per finding) Managerial insights: answer the “So what?” question. That is,\n",
    "convince the reader that your finding can be used to improve business operations\n",
    "and strategy.\n",
    "\n",
    "Points are awarded based on clarity, brevity, and how actionable your finding is."
   ]
  },
  {
   "cell_type": "markdown",
   "metadata": {},
   "source": [
    "## Finding 1"
   ]
  },
  {
   "cell_type": "code",
   "execution_count": null,
   "metadata": {
    "vscode": {
     "languageId": "plaintext"
    }
   },
   "outputs": [],
   "source": []
  },
  {
   "cell_type": "markdown",
   "metadata": {},
   "source": []
  },
  {
   "cell_type": "markdown",
   "metadata": {},
   "source": [
    "## Finding 2"
   ]
  },
  {
   "cell_type": "code",
   "execution_count": null,
   "metadata": {
    "vscode": {
     "languageId": "plaintext"
    }
   },
   "outputs": [],
   "source": []
  },
  {
   "cell_type": "markdown",
   "metadata": {},
   "source": []
  },
  {
   "cell_type": "markdown",
   "metadata": {},
   "source": [
    "## Finding 3"
   ]
  },
  {
   "cell_type": "code",
   "execution_count": null,
   "metadata": {
    "vscode": {
     "languageId": "plaintext"
    }
   },
   "outputs": [],
   "source": []
  },
  {
   "cell_type": "markdown",
   "metadata": {},
   "source": []
  },
  {
   "cell_type": "markdown",
   "metadata": {},
   "source": [
    "4. (10 pts) Presentation and Readability\n",
    "\n",
    "a. Ensure the Jupyter Notebook is well-organized, with appropriate headings, clear\n",
    "explanations, and attention to detail.\n",
    "\n",
    "b. Formatting and Layout: Use clean formatting and provide sufficient explanations to\n",
    "make your work easy to follow"
   ]
  },
  {
   "cell_type": "markdown",
   "metadata": {},
   "source": []
  }
 ],
 "metadata": {
  "language_info": {
   "name": "python"
  }
 },
 "nbformat": 4,
 "nbformat_minor": 2
}
