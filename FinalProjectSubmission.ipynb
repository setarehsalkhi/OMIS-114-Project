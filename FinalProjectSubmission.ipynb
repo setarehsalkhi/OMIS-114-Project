{
 "cells": [
  {
   "cell_type": "code",
   "execution_count": 1,
   "metadata": {},
   "outputs": [
    {
     "data": {
      "application/javascript": "IPython.notebook.set_autosave_interval(0)"
     },
     "metadata": {},
     "output_type": "display_data"
    },
    {
     "name": "stdout",
     "output_type": "stream",
     "text": [
      "Autosave disabled\n"
     ]
    }
   ],
   "source": [
    "%autosave 0"
   ]
  },
  {
   "cell_type": "code",
   "execution_count": 4,
   "metadata": {},
   "outputs": [],
   "source": [
    "# print all the outputs in a cell\n",
    "from IPython.core.interactiveshell import InteractiveShell\n",
    "InteractiveShell.ast_node_interactivity = \"all\""
   ]
  },
  {
   "cell_type": "code",
   "execution_count": 5,
   "metadata": {},
   "outputs": [],
   "source": [
    "import pandas as pd\n",
    "import numpy as np \n",
    "import seaborn as sns \n",
    "import matplotlib.pyplot as plt"
   ]
  },
  {
   "cell_type": "markdown",
   "metadata": {},
   "source": [
    "# Student Performance Factors"
   ]
  },
  {
   "cell_type": "markdown",
   "metadata": {},
   "source": [
    "This dataset provides a comprehensive overview of select factors affecting student performance on exams. Each observation is representative of one student's information, including information on her/his attendance, parental involvement, study hours, other aspects influencing her/his academic success, and her/his final exam scores.\n",
    "\n",
    "A data dictionary will be provided upon cleaning the dataset to more accurately describe our variables of interest. Below is an intitial look at the DataFrame."
   ]
  },
  {
   "cell_type": "code",
   "execution_count": 15,
   "metadata": {},
   "outputs": [],
   "source": [
    "# Load the data\n",
    "df = pd.read_csv(\"StudentPerformanceFactors.csv\")"
   ]
  },
  {
   "cell_type": "code",
   "execution_count": 17,
   "metadata": {},
   "outputs": [
    {
     "data": {
      "text/html": [
       "<div>\n",
       "<style scoped>\n",
       "    .dataframe tbody tr th:only-of-type {\n",
       "        vertical-align: middle;\n",
       "    }\n",
       "\n",
       "    .dataframe tbody tr th {\n",
       "        vertical-align: top;\n",
       "    }\n",
       "\n",
       "    .dataframe thead th {\n",
       "        text-align: right;\n",
       "    }\n",
       "</style>\n",
       "<table border=\"1\" class=\"dataframe\">\n",
       "  <thead>\n",
       "    <tr style=\"text-align: right;\">\n",
       "      <th></th>\n",
       "      <th>Hours_Studied</th>\n",
       "      <th>Attendance</th>\n",
       "      <th>Parental_Involvement</th>\n",
       "      <th>Access_to_Resources</th>\n",
       "      <th>Extracurricular_Activities</th>\n",
       "      <th>Sleep_Hours</th>\n",
       "      <th>Previous_Scores</th>\n",
       "      <th>Motivation_Level</th>\n",
       "      <th>Internet_Access</th>\n",
       "      <th>Tutoring_Sessions</th>\n",
       "      <th>Family_Income</th>\n",
       "      <th>Teacher_Quality</th>\n",
       "      <th>School_Type</th>\n",
       "      <th>Peer_Influence</th>\n",
       "      <th>Physical_Activity</th>\n",
       "      <th>Learning_Disabilities</th>\n",
       "      <th>Parental_Education_Level</th>\n",
       "      <th>Distance_from_Home</th>\n",
       "      <th>Gender</th>\n",
       "      <th>Exam_Score</th>\n",
       "    </tr>\n",
       "  </thead>\n",
       "  <tbody>\n",
       "    <tr>\n",
       "      <th>0</th>\n",
       "      <td>23</td>\n",
       "      <td>84</td>\n",
       "      <td>Low</td>\n",
       "      <td>High</td>\n",
       "      <td>No</td>\n",
       "      <td>7</td>\n",
       "      <td>73</td>\n",
       "      <td>Low</td>\n",
       "      <td>Yes</td>\n",
       "      <td>0</td>\n",
       "      <td>Low</td>\n",
       "      <td>Medium</td>\n",
       "      <td>Public</td>\n",
       "      <td>Positive</td>\n",
       "      <td>3</td>\n",
       "      <td>No</td>\n",
       "      <td>High School</td>\n",
       "      <td>Near</td>\n",
       "      <td>Male</td>\n",
       "      <td>67</td>\n",
       "    </tr>\n",
       "    <tr>\n",
       "      <th>1</th>\n",
       "      <td>19</td>\n",
       "      <td>64</td>\n",
       "      <td>Low</td>\n",
       "      <td>Medium</td>\n",
       "      <td>No</td>\n",
       "      <td>8</td>\n",
       "      <td>59</td>\n",
       "      <td>Low</td>\n",
       "      <td>Yes</td>\n",
       "      <td>2</td>\n",
       "      <td>Medium</td>\n",
       "      <td>Medium</td>\n",
       "      <td>Public</td>\n",
       "      <td>Negative</td>\n",
       "      <td>4</td>\n",
       "      <td>No</td>\n",
       "      <td>College</td>\n",
       "      <td>Moderate</td>\n",
       "      <td>Female</td>\n",
       "      <td>61</td>\n",
       "    </tr>\n",
       "    <tr>\n",
       "      <th>2</th>\n",
       "      <td>24</td>\n",
       "      <td>98</td>\n",
       "      <td>Medium</td>\n",
       "      <td>Medium</td>\n",
       "      <td>Yes</td>\n",
       "      <td>7</td>\n",
       "      <td>91</td>\n",
       "      <td>Medium</td>\n",
       "      <td>Yes</td>\n",
       "      <td>2</td>\n",
       "      <td>Medium</td>\n",
       "      <td>Medium</td>\n",
       "      <td>Public</td>\n",
       "      <td>Neutral</td>\n",
       "      <td>4</td>\n",
       "      <td>No</td>\n",
       "      <td>Postgraduate</td>\n",
       "      <td>Near</td>\n",
       "      <td>Male</td>\n",
       "      <td>74</td>\n",
       "    </tr>\n",
       "    <tr>\n",
       "      <th>3</th>\n",
       "      <td>29</td>\n",
       "      <td>89</td>\n",
       "      <td>Low</td>\n",
       "      <td>Medium</td>\n",
       "      <td>Yes</td>\n",
       "      <td>8</td>\n",
       "      <td>98</td>\n",
       "      <td>Medium</td>\n",
       "      <td>Yes</td>\n",
       "      <td>1</td>\n",
       "      <td>Medium</td>\n",
       "      <td>Medium</td>\n",
       "      <td>Public</td>\n",
       "      <td>Negative</td>\n",
       "      <td>4</td>\n",
       "      <td>No</td>\n",
       "      <td>High School</td>\n",
       "      <td>Moderate</td>\n",
       "      <td>Male</td>\n",
       "      <td>71</td>\n",
       "    </tr>\n",
       "    <tr>\n",
       "      <th>4</th>\n",
       "      <td>19</td>\n",
       "      <td>92</td>\n",
       "      <td>Medium</td>\n",
       "      <td>Medium</td>\n",
       "      <td>Yes</td>\n",
       "      <td>6</td>\n",
       "      <td>65</td>\n",
       "      <td>Medium</td>\n",
       "      <td>Yes</td>\n",
       "      <td>3</td>\n",
       "      <td>Medium</td>\n",
       "      <td>High</td>\n",
       "      <td>Public</td>\n",
       "      <td>Neutral</td>\n",
       "      <td>4</td>\n",
       "      <td>No</td>\n",
       "      <td>College</td>\n",
       "      <td>Near</td>\n",
       "      <td>Female</td>\n",
       "      <td>70</td>\n",
       "    </tr>\n",
       "  </tbody>\n",
       "</table>\n",
       "</div>"
      ],
      "text/plain": [
       "   Hours_Studied  Attendance Parental_Involvement Access_to_Resources  \\\n",
       "0             23          84                  Low                High   \n",
       "1             19          64                  Low              Medium   \n",
       "2             24          98               Medium              Medium   \n",
       "3             29          89                  Low              Medium   \n",
       "4             19          92               Medium              Medium   \n",
       "\n",
       "  Extracurricular_Activities  Sleep_Hours  Previous_Scores Motivation_Level  \\\n",
       "0                         No            7               73              Low   \n",
       "1                         No            8               59              Low   \n",
       "2                        Yes            7               91           Medium   \n",
       "3                        Yes            8               98           Medium   \n",
       "4                        Yes            6               65           Medium   \n",
       "\n",
       "  Internet_Access  Tutoring_Sessions Family_Income Teacher_Quality  \\\n",
       "0             Yes                  0           Low          Medium   \n",
       "1             Yes                  2        Medium          Medium   \n",
       "2             Yes                  2        Medium          Medium   \n",
       "3             Yes                  1        Medium          Medium   \n",
       "4             Yes                  3        Medium            High   \n",
       "\n",
       "  School_Type Peer_Influence  Physical_Activity Learning_Disabilities  \\\n",
       "0      Public       Positive                  3                    No   \n",
       "1      Public       Negative                  4                    No   \n",
       "2      Public        Neutral                  4                    No   \n",
       "3      Public       Negative                  4                    No   \n",
       "4      Public        Neutral                  4                    No   \n",
       "\n",
       "  Parental_Education_Level Distance_from_Home  Gender  Exam_Score  \n",
       "0              High School               Near    Male          67  \n",
       "1                  College           Moderate  Female          61  \n",
       "2             Postgraduate               Near    Male          74  \n",
       "3              High School           Moderate    Male          71  \n",
       "4                  College               Near  Female          70  "
      ]
     },
     "execution_count": 17,
     "metadata": {},
     "output_type": "execute_result"
    },
    {
     "data": {
      "text/plain": [
       "Index(['Hours_Studied', 'Attendance', 'Parental_Involvement',\n",
       "       'Access_to_Resources', 'Extracurricular_Activities', 'Sleep_Hours',\n",
       "       'Previous_Scores', 'Motivation_Level', 'Internet_Access',\n",
       "       'Tutoring_Sessions', 'Family_Income', 'Teacher_Quality', 'School_Type',\n",
       "       'Peer_Influence', 'Physical_Activity', 'Learning_Disabilities',\n",
       "       'Parental_Education_Level', 'Distance_from_Home', 'Gender',\n",
       "       'Exam_Score'],\n",
       "      dtype='object')"
      ]
     },
     "execution_count": 17,
     "metadata": {},
     "output_type": "execute_result"
    },
    {
     "data": {
      "text/plain": [
       "(6607, 20)"
      ]
     },
     "execution_count": 17,
     "metadata": {},
     "output_type": "execute_result"
    }
   ],
   "source": [
    "# Look at the data\n",
    "df.head()\n",
    "df.columns\n",
    "df.shape"
   ]
  },
  {
   "cell_type": "code",
   "execution_count": null,
   "metadata": {},
   "outputs": [
    {
     "data": {
      "text/plain": [
       "(6607, 20)"
      ]
     },
     "execution_count": 9,
     "metadata": {},
     "output_type": "execute_result"
    }
   ],
   "source": [
    "df.shape"
   ]
  },
  {
   "cell_type": "code",
   "execution_count": 11,
   "metadata": {},
   "outputs": [
    {
     "data": {
      "text/html": [
       "<div>\n",
       "<style scoped>\n",
       "    .dataframe tbody tr th:only-of-type {\n",
       "        vertical-align: middle;\n",
       "    }\n",
       "\n",
       "    .dataframe tbody tr th {\n",
       "        vertical-align: top;\n",
       "    }\n",
       "\n",
       "    .dataframe thead th {\n",
       "        text-align: right;\n",
       "    }\n",
       "</style>\n",
       "<table border=\"1\" class=\"dataframe\">\n",
       "  <thead>\n",
       "    <tr style=\"text-align: right;\">\n",
       "      <th></th>\n",
       "      <th>Hours_Studied</th>\n",
       "      <th>Attendance</th>\n",
       "      <th>Sleep_Hours</th>\n",
       "      <th>Previous_Scores</th>\n",
       "      <th>Tutoring_Sessions</th>\n",
       "      <th>Physical_Activity</th>\n",
       "      <th>Exam_Score</th>\n",
       "    </tr>\n",
       "  </thead>\n",
       "  <tbody>\n",
       "    <tr>\n",
       "      <th>count</th>\n",
       "      <td>6607.000000</td>\n",
       "      <td>6607.000000</td>\n",
       "      <td>6607.00000</td>\n",
       "      <td>6607.000000</td>\n",
       "      <td>6607.000000</td>\n",
       "      <td>6607.000000</td>\n",
       "      <td>6607.000000</td>\n",
       "    </tr>\n",
       "    <tr>\n",
       "      <th>mean</th>\n",
       "      <td>19.975329</td>\n",
       "      <td>79.977448</td>\n",
       "      <td>7.02906</td>\n",
       "      <td>75.070531</td>\n",
       "      <td>1.493719</td>\n",
       "      <td>2.967610</td>\n",
       "      <td>67.235659</td>\n",
       "    </tr>\n",
       "    <tr>\n",
       "      <th>std</th>\n",
       "      <td>5.990594</td>\n",
       "      <td>11.547475</td>\n",
       "      <td>1.46812</td>\n",
       "      <td>14.399784</td>\n",
       "      <td>1.230570</td>\n",
       "      <td>1.031231</td>\n",
       "      <td>3.890456</td>\n",
       "    </tr>\n",
       "    <tr>\n",
       "      <th>min</th>\n",
       "      <td>1.000000</td>\n",
       "      <td>60.000000</td>\n",
       "      <td>4.00000</td>\n",
       "      <td>50.000000</td>\n",
       "      <td>0.000000</td>\n",
       "      <td>0.000000</td>\n",
       "      <td>55.000000</td>\n",
       "    </tr>\n",
       "    <tr>\n",
       "      <th>25%</th>\n",
       "      <td>16.000000</td>\n",
       "      <td>70.000000</td>\n",
       "      <td>6.00000</td>\n",
       "      <td>63.000000</td>\n",
       "      <td>1.000000</td>\n",
       "      <td>2.000000</td>\n",
       "      <td>65.000000</td>\n",
       "    </tr>\n",
       "    <tr>\n",
       "      <th>50%</th>\n",
       "      <td>20.000000</td>\n",
       "      <td>80.000000</td>\n",
       "      <td>7.00000</td>\n",
       "      <td>75.000000</td>\n",
       "      <td>1.000000</td>\n",
       "      <td>3.000000</td>\n",
       "      <td>67.000000</td>\n",
       "    </tr>\n",
       "    <tr>\n",
       "      <th>75%</th>\n",
       "      <td>24.000000</td>\n",
       "      <td>90.000000</td>\n",
       "      <td>8.00000</td>\n",
       "      <td>88.000000</td>\n",
       "      <td>2.000000</td>\n",
       "      <td>4.000000</td>\n",
       "      <td>69.000000</td>\n",
       "    </tr>\n",
       "    <tr>\n",
       "      <th>max</th>\n",
       "      <td>44.000000</td>\n",
       "      <td>100.000000</td>\n",
       "      <td>10.00000</td>\n",
       "      <td>100.000000</td>\n",
       "      <td>8.000000</td>\n",
       "      <td>6.000000</td>\n",
       "      <td>101.000000</td>\n",
       "    </tr>\n",
       "  </tbody>\n",
       "</table>\n",
       "</div>"
      ],
      "text/plain": [
       "       Hours_Studied   Attendance  Sleep_Hours  Previous_Scores  \\\n",
       "count    6607.000000  6607.000000   6607.00000      6607.000000   \n",
       "mean       19.975329    79.977448      7.02906        75.070531   \n",
       "std         5.990594    11.547475      1.46812        14.399784   \n",
       "min         1.000000    60.000000      4.00000        50.000000   \n",
       "25%        16.000000    70.000000      6.00000        63.000000   \n",
       "50%        20.000000    80.000000      7.00000        75.000000   \n",
       "75%        24.000000    90.000000      8.00000        88.000000   \n",
       "max        44.000000   100.000000     10.00000       100.000000   \n",
       "\n",
       "       Tutoring_Sessions  Physical_Activity   Exam_Score  \n",
       "count        6607.000000        6607.000000  6607.000000  \n",
       "mean            1.493719           2.967610    67.235659  \n",
       "std             1.230570           1.031231     3.890456  \n",
       "min             0.000000           0.000000    55.000000  \n",
       "25%             1.000000           2.000000    65.000000  \n",
       "50%             1.000000           3.000000    67.000000  \n",
       "75%             2.000000           4.000000    69.000000  \n",
       "max             8.000000           6.000000   101.000000  "
      ]
     },
     "execution_count": 11,
     "metadata": {},
     "output_type": "execute_result"
    }
   ],
   "source": [
    "df.describe()"
   ]
  },
  {
   "cell_type": "code",
   "execution_count": 12,
   "metadata": {},
   "outputs": [
    {
     "name": "stdout",
     "output_type": "stream",
     "text": [
      "<class 'pandas.core.frame.DataFrame'>\n",
      "RangeIndex: 6607 entries, 0 to 6606\n",
      "Data columns (total 20 columns):\n",
      " #   Column                      Non-Null Count  Dtype \n",
      "---  ------                      --------------  ----- \n",
      " 0   Hours_Studied               6607 non-null   int64 \n",
      " 1   Attendance                  6607 non-null   int64 \n",
      " 2   Parental_Involvement        6607 non-null   object\n",
      " 3   Access_to_Resources         6607 non-null   object\n",
      " 4   Extracurricular_Activities  6607 non-null   object\n",
      " 5   Sleep_Hours                 6607 non-null   int64 \n",
      " 6   Previous_Scores             6607 non-null   int64 \n",
      " 7   Motivation_Level            6607 non-null   object\n",
      " 8   Internet_Access             6607 non-null   object\n",
      " 9   Tutoring_Sessions           6607 non-null   int64 \n",
      " 10  Family_Income               6607 non-null   object\n",
      " 11  Teacher_Quality             6529 non-null   object\n",
      " 12  School_Type                 6607 non-null   object\n",
      " 13  Peer_Influence              6607 non-null   object\n",
      " 14  Physical_Activity           6607 non-null   int64 \n",
      " 15  Learning_Disabilities       6607 non-null   object\n",
      " 16  Parental_Education_Level    6517 non-null   object\n",
      " 17  Distance_from_Home          6540 non-null   object\n",
      " 18  Gender                      6607 non-null   object\n",
      " 19  Exam_Score                  6607 non-null   int64 \n",
      "dtypes: int64(7), object(13)\n",
      "memory usage: 1.0+ MB\n"
     ]
    }
   ],
   "source": [
    "df.info()"
   ]
  },
  {
   "cell_type": "code",
   "execution_count": 13,
   "metadata": {},
   "outputs": [
    {
     "data": {
      "text/plain": [
       "Hours_Studied                  0\n",
       "Attendance                     0\n",
       "Parental_Involvement           0\n",
       "Access_to_Resources            0\n",
       "Extracurricular_Activities     0\n",
       "Sleep_Hours                    0\n",
       "Previous_Scores                0\n",
       "Motivation_Level               0\n",
       "Internet_Access                0\n",
       "Tutoring_Sessions              0\n",
       "Family_Income                  0\n",
       "Teacher_Quality               78\n",
       "School_Type                    0\n",
       "Peer_Influence                 0\n",
       "Physical_Activity              0\n",
       "Learning_Disabilities          0\n",
       "Parental_Education_Level      90\n",
       "Distance_from_Home            67\n",
       "Gender                         0\n",
       "Exam_Score                     0\n",
       "dtype: int64"
      ]
     },
     "execution_count": 13,
     "metadata": {},
     "output_type": "execute_result"
    }
   ],
   "source": [
    "df.isna().sum()"
   ]
  },
  {
   "cell_type": "markdown",
   "metadata": {},
   "source": [
    "1. (20 points) Research Question & Hypotheses + Data Description \n",
    "Points are awarded based on clarity and brevity"
   ]
  },
  {
   "cell_type": "markdown",
   "metadata": {},
   "source": [
    "~~a. Formulate a Central Research Question: Your project should revolve around a\n",
    "central research question/theme (e.g., “What factors influence employee retention?”\n",
    "“How can we reduce customer churn?”) Points awarded on clarity and relevance.~~"
   ]
  },
  {
   "cell_type": "markdown",
   "metadata": {},
   "source": [
    "## Central Research Question: <b> Which factors are most correlated with student performance? "
   ]
  },
  {
   "cell_type": "markdown",
   "metadata": {},
   "source": [
    "~~b. Hypothesis Development: Develop 3 hypotheses that you aim to test using the\n",
    "data. Each hypothesis should be logically connected to the research question for the\n",
    "above questions.~~"
   ]
  },
  {
   "cell_type": "markdown",
   "metadata": {},
   "source": [
    "### Hypothesis 1: **There is a positive correlation between study hours and attendance record. Moreover, both are positively associated with exam performance.**"
   ]
  },
  {
   "cell_type": "markdown",
   "metadata": {},
   "source": [
    "### Hypothesis 2: **Lower motivation levels are associated with lower exam scores, and vice versa, higher motivation levels are positively associated with higher exam scores.**"
   ]
  },
  {
   "cell_type": "markdown",
   "metadata": {},
   "source": [
    "### Hypothesis 3: **High parental involvement and positive peer influence positively impact student performance in exams.**"
   ]
  },
  {
   "cell_type": "markdown",
   "metadata": {},
   "source": [
    "~~c. Explain your dataset(s): What is the dataset about? What are the variables of\n",
    "interest? Provide a data dictionary to define each variable’s meaning.~~"
   ]
  },
  {
   "cell_type": "markdown",
   "metadata": {},
   "source": [
    "~~d. Define the unit of analysis: Clarify the unit of analysis in your dataset (what does\n",
    "each observation represent)? You may need to do this repeatedly if you transform\n",
    "your data.~~"
   ]
  },
  {
   "cell_type": "markdown",
   "metadata": {},
   "source": []
  },
  {
   "cell_type": "markdown",
   "metadata": {},
   "source": [
    "## Data Preparation"
   ]
  },
  {
   "cell_type": "markdown",
   "metadata": {},
   "source": [
    "~~2. (20 pts.) Data Preparation.~~\n",
    "\n",
    "~~a. Report all code related to cleaning and preparing the data. This may include creating\n",
    "new columns, cleaning existing ones, handling missing data and/or filtering data.\n",
    "Your data preparation should be performed directly in the notebook.~~\n",
    "\n",
    "~~Points are awarded based on clarity, brevity, and showing that you can use the\n",
    "techniques learned in class~~\n"
   ]
  },
  {
   "cell_type": "code",
   "execution_count": 32,
   "metadata": {},
   "outputs": [],
   "source": [
    "# copy original DataFrame to avoid any changes to the original DataFrame \n",
    "df2 = df.copy()"
   ]
  },
  {
   "cell_type": "code",
   "execution_count": 33,
   "metadata": {},
   "outputs": [],
   "source": [
    "# drop unnecessary columns\n",
    "df2.drop(columns = ['Access_to_Resources', 'Previous_Scores', 'Internet_Access', 'Teacher_Quality', 'Parental_Education_Level', 'Tutoring_Sessions', 'School_Type', 'Physical_Activity', 'Learning_Disabilities', 'Distance_from_Home'], inplace = True)"
   ]
  },
  {
   "cell_type": "code",
   "execution_count": 34,
   "metadata": {},
   "outputs": [],
   "source": [
    "# one hot encoding\n",
    "columns_to_apply_func = ['Motivation_Level', 'Family_Income', 'Peer_Influence', 'Parental_Involvement']\n",
    "\n",
    "def f(x):\n",
    "    if (x == \"Low\") | (x == \"Negative\"):\n",
    "        return 0\n",
    "    elif (x == 'Medium') | (x == \"Neutral\"):\n",
    "        return 0.5\n",
    "    elif (x == 'High') | (x == \"Positive\"):\n",
    "        return 1\n",
    "\n",
    "for col in columns_to_apply_func:\n",
    "    df2[col] = df2[col].apply(f)"
   ]
  },
  {
   "cell_type": "code",
   "execution_count": 35,
   "metadata": {},
   "outputs": [],
   "source": [
    "# label encoding\n",
    "df2['Gender'] = df2['Gender'].map({'Female': 0, 'Male': 1}) "
   ]
  },
  {
   "cell_type": "code",
   "execution_count": null,
   "metadata": {},
   "outputs": [
    {
     "data": {
      "text/plain": [
       "Hours_Studied                 0\n",
       "Attendance                    0\n",
       "Parental_Involvement          0\n",
       "Extracurricular_Activities    0\n",
       "Sleep_Hours                   0\n",
       "Motivation_Level              0\n",
       "Family_Income                 0\n",
       "Peer_Influence                0\n",
       "Gender                        0\n",
       "Exam_Score                    0\n",
       "dtype: int64"
      ]
     },
     "execution_count": 36,
     "metadata": {},
     "output_type": "execute_result"
    }
   ],
   "source": [
    "# error checking\n",
    "df2.isna().sum()"
   ]
  },
  {
   "cell_type": "markdown",
   "metadata": {},
   "source": [
    "### Looking at the Updated DataFrame"
   ]
  },
  {
   "cell_type": "code",
   "execution_count": 37,
   "metadata": {},
   "outputs": [
    {
     "data": {
      "text/html": [
       "<div>\n",
       "<style scoped>\n",
       "    .dataframe tbody tr th:only-of-type {\n",
       "        vertical-align: middle;\n",
       "    }\n",
       "\n",
       "    .dataframe tbody tr th {\n",
       "        vertical-align: top;\n",
       "    }\n",
       "\n",
       "    .dataframe thead th {\n",
       "        text-align: right;\n",
       "    }\n",
       "</style>\n",
       "<table border=\"1\" class=\"dataframe\">\n",
       "  <thead>\n",
       "    <tr style=\"text-align: right;\">\n",
       "      <th></th>\n",
       "      <th>Hours_Studied</th>\n",
       "      <th>Attendance</th>\n",
       "      <th>Parental_Involvement</th>\n",
       "      <th>Extracurricular_Activities</th>\n",
       "      <th>Sleep_Hours</th>\n",
       "      <th>Motivation_Level</th>\n",
       "      <th>Family_Income</th>\n",
       "      <th>Peer_Influence</th>\n",
       "      <th>Gender</th>\n",
       "      <th>Exam_Score</th>\n",
       "    </tr>\n",
       "  </thead>\n",
       "  <tbody>\n",
       "    <tr>\n",
       "      <th>0</th>\n",
       "      <td>23</td>\n",
       "      <td>84</td>\n",
       "      <td>0.0</td>\n",
       "      <td>No</td>\n",
       "      <td>7</td>\n",
       "      <td>0.0</td>\n",
       "      <td>0.0</td>\n",
       "      <td>1.0</td>\n",
       "      <td>1</td>\n",
       "      <td>67</td>\n",
       "    </tr>\n",
       "    <tr>\n",
       "      <th>1</th>\n",
       "      <td>19</td>\n",
       "      <td>64</td>\n",
       "      <td>0.0</td>\n",
       "      <td>No</td>\n",
       "      <td>8</td>\n",
       "      <td>0.0</td>\n",
       "      <td>0.5</td>\n",
       "      <td>0.0</td>\n",
       "      <td>0</td>\n",
       "      <td>61</td>\n",
       "    </tr>\n",
       "    <tr>\n",
       "      <th>2</th>\n",
       "      <td>24</td>\n",
       "      <td>98</td>\n",
       "      <td>0.5</td>\n",
       "      <td>Yes</td>\n",
       "      <td>7</td>\n",
       "      <td>0.5</td>\n",
       "      <td>0.5</td>\n",
       "      <td>0.5</td>\n",
       "      <td>1</td>\n",
       "      <td>74</td>\n",
       "    </tr>\n",
       "    <tr>\n",
       "      <th>3</th>\n",
       "      <td>29</td>\n",
       "      <td>89</td>\n",
       "      <td>0.0</td>\n",
       "      <td>Yes</td>\n",
       "      <td>8</td>\n",
       "      <td>0.5</td>\n",
       "      <td>0.5</td>\n",
       "      <td>0.0</td>\n",
       "      <td>1</td>\n",
       "      <td>71</td>\n",
       "    </tr>\n",
       "    <tr>\n",
       "      <th>4</th>\n",
       "      <td>19</td>\n",
       "      <td>92</td>\n",
       "      <td>0.5</td>\n",
       "      <td>Yes</td>\n",
       "      <td>6</td>\n",
       "      <td>0.5</td>\n",
       "      <td>0.5</td>\n",
       "      <td>0.5</td>\n",
       "      <td>0</td>\n",
       "      <td>70</td>\n",
       "    </tr>\n",
       "  </tbody>\n",
       "</table>\n",
       "</div>"
      ],
      "text/plain": [
       "   Hours_Studied  Attendance  Parental_Involvement Extracurricular_Activities  \\\n",
       "0             23          84                   0.0                         No   \n",
       "1             19          64                   0.0                         No   \n",
       "2             24          98                   0.5                        Yes   \n",
       "3             29          89                   0.0                        Yes   \n",
       "4             19          92                   0.5                        Yes   \n",
       "\n",
       "   Sleep_Hours  Motivation_Level  Family_Income  Peer_Influence  Gender  \\\n",
       "0            7               0.0            0.0             1.0       1   \n",
       "1            8               0.0            0.5             0.0       0   \n",
       "2            7               0.5            0.5             0.5       1   \n",
       "3            8               0.5            0.5             0.0       1   \n",
       "4            6               0.5            0.5             0.5       0   \n",
       "\n",
       "   Exam_Score  \n",
       "0          67  \n",
       "1          61  \n",
       "2          74  \n",
       "3          71  \n",
       "4          70  "
      ]
     },
     "execution_count": 37,
     "metadata": {},
     "output_type": "execute_result"
    }
   ],
   "source": [
    "df2.head()"
   ]
  },
  {
   "cell_type": "code",
   "execution_count": 38,
   "metadata": {},
   "outputs": [
    {
     "data": {
      "text/html": [
       "<div>\n",
       "<style scoped>\n",
       "    .dataframe tbody tr th:only-of-type {\n",
       "        vertical-align: middle;\n",
       "    }\n",
       "\n",
       "    .dataframe tbody tr th {\n",
       "        vertical-align: top;\n",
       "    }\n",
       "\n",
       "    .dataframe thead th {\n",
       "        text-align: right;\n",
       "    }\n",
       "</style>\n",
       "<table border=\"1\" class=\"dataframe\">\n",
       "  <thead>\n",
       "    <tr style=\"text-align: right;\">\n",
       "      <th></th>\n",
       "      <th>Hours_Studied</th>\n",
       "      <th>Attendance</th>\n",
       "      <th>Parental_Involvement</th>\n",
       "      <th>Sleep_Hours</th>\n",
       "      <th>Motivation_Level</th>\n",
       "      <th>Family_Income</th>\n",
       "      <th>Peer_Influence</th>\n",
       "      <th>Gender</th>\n",
       "      <th>Exam_Score</th>\n",
       "    </tr>\n",
       "  </thead>\n",
       "  <tbody>\n",
       "    <tr>\n",
       "      <th>count</th>\n",
       "      <td>6607.000000</td>\n",
       "      <td>6607.000000</td>\n",
       "      <td>6607.000000</td>\n",
       "      <td>6607.00000</td>\n",
       "      <td>6607.000000</td>\n",
       "      <td>6607.000000</td>\n",
       "      <td>6607.000000</td>\n",
       "      <td>6607.000000</td>\n",
       "      <td>6607.000000</td>\n",
       "    </tr>\n",
       "    <tr>\n",
       "      <th>mean</th>\n",
       "      <td>19.975329</td>\n",
       "      <td>79.977448</td>\n",
       "      <td>0.543212</td>\n",
       "      <td>7.02906</td>\n",
       "      <td>0.453231</td>\n",
       "      <td>0.393825</td>\n",
       "      <td>0.595429</td>\n",
       "      <td>0.577267</td>\n",
       "      <td>67.235659</td>\n",
       "    </tr>\n",
       "    <tr>\n",
       "      <th>std</th>\n",
       "      <td>5.990594</td>\n",
       "      <td>11.547475</td>\n",
       "      <td>0.347761</td>\n",
       "      <td>1.46812</td>\n",
       "      <td>0.347899</td>\n",
       "      <td>0.371308</td>\n",
       "      <td>0.377938</td>\n",
       "      <td>0.494031</td>\n",
       "      <td>3.890456</td>\n",
       "    </tr>\n",
       "    <tr>\n",
       "      <th>min</th>\n",
       "      <td>1.000000</td>\n",
       "      <td>60.000000</td>\n",
       "      <td>0.000000</td>\n",
       "      <td>4.00000</td>\n",
       "      <td>0.000000</td>\n",
       "      <td>0.000000</td>\n",
       "      <td>0.000000</td>\n",
       "      <td>0.000000</td>\n",
       "      <td>55.000000</td>\n",
       "    </tr>\n",
       "    <tr>\n",
       "      <th>25%</th>\n",
       "      <td>16.000000</td>\n",
       "      <td>70.000000</td>\n",
       "      <td>0.500000</td>\n",
       "      <td>6.00000</td>\n",
       "      <td>0.000000</td>\n",
       "      <td>0.000000</td>\n",
       "      <td>0.500000</td>\n",
       "      <td>0.000000</td>\n",
       "      <td>65.000000</td>\n",
       "    </tr>\n",
       "    <tr>\n",
       "      <th>50%</th>\n",
       "      <td>20.000000</td>\n",
       "      <td>80.000000</td>\n",
       "      <td>0.500000</td>\n",
       "      <td>7.00000</td>\n",
       "      <td>0.500000</td>\n",
       "      <td>0.500000</td>\n",
       "      <td>0.500000</td>\n",
       "      <td>1.000000</td>\n",
       "      <td>67.000000</td>\n",
       "    </tr>\n",
       "    <tr>\n",
       "      <th>75%</th>\n",
       "      <td>24.000000</td>\n",
       "      <td>90.000000</td>\n",
       "      <td>1.000000</td>\n",
       "      <td>8.00000</td>\n",
       "      <td>0.500000</td>\n",
       "      <td>0.500000</td>\n",
       "      <td>1.000000</td>\n",
       "      <td>1.000000</td>\n",
       "      <td>69.000000</td>\n",
       "    </tr>\n",
       "    <tr>\n",
       "      <th>max</th>\n",
       "      <td>44.000000</td>\n",
       "      <td>100.000000</td>\n",
       "      <td>1.000000</td>\n",
       "      <td>10.00000</td>\n",
       "      <td>1.000000</td>\n",
       "      <td>1.000000</td>\n",
       "      <td>1.000000</td>\n",
       "      <td>1.000000</td>\n",
       "      <td>101.000000</td>\n",
       "    </tr>\n",
       "  </tbody>\n",
       "</table>\n",
       "</div>"
      ],
      "text/plain": [
       "       Hours_Studied   Attendance  Parental_Involvement  Sleep_Hours  \\\n",
       "count    6607.000000  6607.000000           6607.000000   6607.00000   \n",
       "mean       19.975329    79.977448              0.543212      7.02906   \n",
       "std         5.990594    11.547475              0.347761      1.46812   \n",
       "min         1.000000    60.000000              0.000000      4.00000   \n",
       "25%        16.000000    70.000000              0.500000      6.00000   \n",
       "50%        20.000000    80.000000              0.500000      7.00000   \n",
       "75%        24.000000    90.000000              1.000000      8.00000   \n",
       "max        44.000000   100.000000              1.000000     10.00000   \n",
       "\n",
       "       Motivation_Level  Family_Income  Peer_Influence       Gender  \\\n",
       "count       6607.000000    6607.000000     6607.000000  6607.000000   \n",
       "mean           0.453231       0.393825        0.595429     0.577267   \n",
       "std            0.347899       0.371308        0.377938     0.494031   \n",
       "min            0.000000       0.000000        0.000000     0.000000   \n",
       "25%            0.000000       0.000000        0.500000     0.000000   \n",
       "50%            0.500000       0.500000        0.500000     1.000000   \n",
       "75%            0.500000       0.500000        1.000000     1.000000   \n",
       "max            1.000000       1.000000        1.000000     1.000000   \n",
       "\n",
       "        Exam_Score  \n",
       "count  6607.000000  \n",
       "mean     67.235659  \n",
       "std       3.890456  \n",
       "min      55.000000  \n",
       "25%      65.000000  \n",
       "50%      67.000000  \n",
       "75%      69.000000  \n",
       "max     101.000000  "
      ]
     },
     "execution_count": 38,
     "metadata": {},
     "output_type": "execute_result"
    }
   ],
   "source": [
    "df2.describe()"
   ]
  },
  {
   "cell_type": "code",
   "execution_count": 39,
   "metadata": {},
   "outputs": [
    {
     "name": "stdout",
     "output_type": "stream",
     "text": [
      "<class 'pandas.core.frame.DataFrame'>\n",
      "RangeIndex: 6607 entries, 0 to 6606\n",
      "Data columns (total 10 columns):\n",
      " #   Column                      Non-Null Count  Dtype  \n",
      "---  ------                      --------------  -----  \n",
      " 0   Hours_Studied               6607 non-null   int64  \n",
      " 1   Attendance                  6607 non-null   int64  \n",
      " 2   Parental_Involvement        6607 non-null   float64\n",
      " 3   Extracurricular_Activities  6607 non-null   object \n",
      " 4   Sleep_Hours                 6607 non-null   int64  \n",
      " 5   Motivation_Level            6607 non-null   float64\n",
      " 6   Family_Income               6607 non-null   float64\n",
      " 7   Peer_Influence              6607 non-null   float64\n",
      " 8   Gender                      6607 non-null   int64  \n",
      " 9   Exam_Score                  6607 non-null   int64  \n",
      "dtypes: float64(4), int64(5), object(1)\n",
      "memory usage: 516.3+ KB\n"
     ]
    }
   ],
   "source": [
    "df2.info()"
   ]
  },
  {
   "cell_type": "markdown",
   "metadata": {},
   "source": [
    "### Data Dictionary\n",
    "Now that we have cleaned the data, below is a data dictionary describing each of our variables of interest."
   ]
  },
  {
   "cell_type": "code",
   "execution_count": 40,
   "metadata": {},
   "outputs": [
    {
     "data": {
      "text/html": [
       "<div>\n",
       "<style scoped>\n",
       "    .dataframe tbody tr th:only-of-type {\n",
       "        vertical-align: middle;\n",
       "    }\n",
       "\n",
       "    .dataframe tbody tr th {\n",
       "        vertical-align: top;\n",
       "    }\n",
       "\n",
       "    .dataframe thead th {\n",
       "        text-align: right;\n",
       "    }\n",
       "</style>\n",
       "<table border=\"1\" class=\"dataframe\">\n",
       "  <thead>\n",
       "    <tr style=\"text-align: right;\">\n",
       "      <th></th>\n",
       "      <th>Column Name</th>\n",
       "      <th>Data Type</th>\n",
       "      <th>Description</th>\n",
       "    </tr>\n",
       "  </thead>\n",
       "  <tbody>\n",
       "    <tr>\n",
       "      <th>0</th>\n",
       "      <td>Hours_Studied</td>\n",
       "      <td>int64</td>\n",
       "      <td>Number of hours spent studying per week</td>\n",
       "    </tr>\n",
       "    <tr>\n",
       "      <th>1</th>\n",
       "      <td>Attendance</td>\n",
       "      <td>int64</td>\n",
       "      <td>A percentage of classes attended</td>\n",
       "    </tr>\n",
       "    <tr>\n",
       "      <th>2</th>\n",
       "      <td>Parental_Involvement</td>\n",
       "      <td>float64</td>\n",
       "      <td>Categorized by 0, 0.5, 1, with 0 being the low...</td>\n",
       "    </tr>\n",
       "    <tr>\n",
       "      <th>3</th>\n",
       "      <td>Extracurricular_Activities</td>\n",
       "      <td>object</td>\n",
       "      <td>Ascribed with 0 or 1 values to indicate whethe...</td>\n",
       "    </tr>\n",
       "    <tr>\n",
       "      <th>4</th>\n",
       "      <td>Sleep_Hours</td>\n",
       "      <td>int64</td>\n",
       "      <td>How many hours did the student sleep</td>\n",
       "    </tr>\n",
       "    <tr>\n",
       "      <th>5</th>\n",
       "      <td>Motivation_Level</td>\n",
       "      <td>float64</td>\n",
       "      <td>Categorized by 0, 0.5, 1, with 0 being the low...</td>\n",
       "    </tr>\n",
       "    <tr>\n",
       "      <th>6</th>\n",
       "      <td>Family_Income</td>\n",
       "      <td>float64</td>\n",
       "      <td>Categorized by 0, 0.5, 1, with 0 being the low...</td>\n",
       "    </tr>\n",
       "    <tr>\n",
       "      <th>7</th>\n",
       "      <td>Peer_Influence</td>\n",
       "      <td>float64</td>\n",
       "      <td>Categorized by 0, 0.5, 1, with 0 being positiv...</td>\n",
       "    </tr>\n",
       "    <tr>\n",
       "      <th>8</th>\n",
       "      <td>Gender</td>\n",
       "      <td>int64</td>\n",
       "      <td>Categorized by 0 or 1, with 0 being Female and...</td>\n",
       "    </tr>\n",
       "    <tr>\n",
       "      <th>9</th>\n",
       "      <td>Exam_Score</td>\n",
       "      <td>int64</td>\n",
       "      <td>Continuous variable representing the final exa...</td>\n",
       "    </tr>\n",
       "  </tbody>\n",
       "</table>\n",
       "</div>"
      ],
      "text/plain": [
       "                  Column Name Data Type  \\\n",
       "0               Hours_Studied     int64   \n",
       "1                  Attendance     int64   \n",
       "2        Parental_Involvement   float64   \n",
       "3  Extracurricular_Activities    object   \n",
       "4                 Sleep_Hours     int64   \n",
       "5            Motivation_Level   float64   \n",
       "6               Family_Income   float64   \n",
       "7              Peer_Influence   float64   \n",
       "8                      Gender     int64   \n",
       "9                  Exam_Score     int64   \n",
       "\n",
       "                                         Description  \n",
       "0            Number of hours spent studying per week  \n",
       "1                   A percentage of classes attended  \n",
       "2  Categorized by 0, 0.5, 1, with 0 being the low...  \n",
       "3  Ascribed with 0 or 1 values to indicate whethe...  \n",
       "4               How many hours did the student sleep  \n",
       "5  Categorized by 0, 0.5, 1, with 0 being the low...  \n",
       "6  Categorized by 0, 0.5, 1, with 0 being the low...  \n",
       "7  Categorized by 0, 0.5, 1, with 0 being positiv...  \n",
       "8  Categorized by 0 or 1, with 0 being Female and...  \n",
       "9  Continuous variable representing the final exa...  "
      ]
     },
     "execution_count": 40,
     "metadata": {},
     "output_type": "execute_result"
    }
   ],
   "source": [
    "description_table = pd.DataFrame({\n",
    "    \"Column Name\": df2.columns,\n",
    "    \"Data Type\": df2.dtypes.values\n",
    "})\n",
    "\n",
    "description_table[\"Description\"] = [\n",
    "    'Number of hours spent studying per week',\n",
    "    'A percentage of classes attended',\n",
    "    'Categorized by 0, 0.5, 1, with 0 being the lowest and 1 being the highest concern levels',\n",
    "    'Ascribed with 0 or 1 values to indicate whether a student is involved in extracurriculars',\n",
    "    'How many hours did the student sleep',\n",
    "    'Categorized by 0, 0.5, 1, with 0 being the lowest and 1 being the highest motivation levels',\n",
    "    'Categorized by 0, 0.5, 1, with 0 being the lowest and 1 being the highest family income levels',\n",
    "    'Categorized by 0, 0.5, 1, with 0 being positive and 1 being the negative peer influence representations',\n",
    "    'Categorized by 0 or 1, with 0 being Female and 1 being the Male',\n",
    "    'Continuous variable representing the final exam score'\n",
    "]\n",
    "\n",
    "description_table"
   ]
  },
  {
   "cell_type": "markdown",
   "metadata": {},
   "source": [
    "3. (60 pts. = 20 pts per finding) Three findings relevant to your research question\n",
    "Present three findings that help answer your research question/ test your\n",
    "hypotheses. Each finding should be nontrivial.\n",
    "\n",
    "For each finding:\n",
    "\n",
    "a. (5 pts per finding) A brief summary of the finding (ideally, only one sentence)\n",
    "addressed to management. Points are awarded based on clarity and interestingness\n",
    "of the finding.\n",
    "\n",
    "b. (10 pts per finding) A set of tables, graphs, and/or models that support the\n",
    "validity of your finding. You must include at least one chart. Points are awarded\n",
    "based on how convincing your evidence is.\n",
    "\n",
    "c. (5 pts per finding) Managerial insights: answer the “So what?” question. That is,\n",
    "convince the reader that your finding can be used to improve business operations\n",
    "and strategy.\n",
    "\n",
    "Points are awarded based on clarity, brevity, and how actionable your finding is."
   ]
  },
  {
   "cell_type": "markdown",
   "metadata": {},
   "source": [
    "## Hypothesis 1\n"
   ]
  },
  {
   "cell_type": "code",
   "execution_count": null,
   "metadata": {},
   "outputs": [],
   "source": []
  },
  {
   "cell_type": "markdown",
   "metadata": {},
   "source": [
    "## Finding 1"
   ]
  },
  {
   "cell_type": "code",
   "execution_count": null,
   "metadata": {},
   "outputs": [],
   "source": []
  },
  {
   "cell_type": "markdown",
   "metadata": {},
   "source": []
  },
  {
   "cell_type": "markdown",
   "metadata": {},
   "source": [
    "## Hypothesis 2"
   ]
  },
  {
   "cell_type": "code",
   "execution_count": null,
   "metadata": {},
   "outputs": [],
   "source": []
  },
  {
   "cell_type": "markdown",
   "metadata": {},
   "source": [
    "## Finding 2"
   ]
  },
  {
   "cell_type": "markdown",
   "metadata": {},
   "source": []
  },
  {
   "cell_type": "markdown",
   "metadata": {},
   "source": [
    "## Hypothesis 3"
   ]
  },
  {
   "cell_type": "code",
   "execution_count": null,
   "metadata": {},
   "outputs": [],
   "source": []
  },
  {
   "cell_type": "markdown",
   "metadata": {},
   "source": [
    "## Finding 3"
   ]
  },
  {
   "cell_type": "markdown",
   "metadata": {},
   "source": []
  },
  {
   "cell_type": "markdown",
   "metadata": {},
   "source": [
    "4. (10 pts) Presentation and Readability\n",
    "\n",
    "a. Ensure the Jupyter Notebook is well-organized, with appropriate headings, clear\n",
    "explanations, and attention to detail.\n",
    "\n",
    "b. Formatting and Layout: Use clean formatting and provide sufficient explanations to\n",
    "make your work easy to follow"
   ]
  },
  {
   "cell_type": "markdown",
   "metadata": {},
   "source": []
  }
 ],
 "metadata": {
  "kernelspec": {
   "display_name": "base",
   "language": "python",
   "name": "python3"
  },
  "language_info": {
   "codemirror_mode": {
    "name": "ipython",
    "version": 3
   },
   "file_extension": ".py",
   "mimetype": "text/x-python",
   "name": "python",
   "nbconvert_exporter": "python",
   "pygments_lexer": "ipython3",
   "version": "3.12.2"
  }
 },
 "nbformat": 4,
 "nbformat_minor": 2
}
